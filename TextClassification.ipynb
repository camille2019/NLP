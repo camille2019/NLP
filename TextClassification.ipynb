{
  "nbformat": 4,
  "nbformat_minor": 0,
  "metadata": {
    "colab": {
      "name": "Harris Copy TextClassification_release.ipynb",
      "provenance": [],
      "collapsed_sections": [],
      "toc_visible": true,
      "machine_shape": "hm"
    },
    "kernelspec": {
      "display_name": "Python 3",
      "name": "python3"
    },
    "widgets": {
      "application/vnd.jupyter.widget-state+json": {
        "c9d59d7a3ce845919803ad9ddc4cc195": {
          "model_module": "@jupyter-widgets/controls",
          "model_name": "HBoxModel",
          "state": {
            "_view_name": "HBoxView",
            "_dom_classes": [],
            "_model_name": "HBoxModel",
            "_view_module": "@jupyter-widgets/controls",
            "_model_module_version": "1.5.0",
            "_view_count": null,
            "_view_module_version": "1.5.0",
            "box_style": "",
            "layout": "IPY_MODEL_7d6b750f1499492aafaaf4ddaac60018",
            "_model_module": "@jupyter-widgets/controls",
            "children": [
              "IPY_MODEL_3c0b8cccdfd24b33bb26659b9d43e666",
              "IPY_MODEL_a90e795f1d9f4acfbd00f1f7a2019573"
            ]
          }
        },
        "7d6b750f1499492aafaaf4ddaac60018": {
          "model_module": "@jupyter-widgets/base",
          "model_name": "LayoutModel",
          "state": {
            "_view_name": "LayoutView",
            "grid_template_rows": null,
            "right": null,
            "justify_content": null,
            "_view_module": "@jupyter-widgets/base",
            "overflow": null,
            "_model_module_version": "1.2.0",
            "_view_count": null,
            "flex_flow": null,
            "width": null,
            "min_width": null,
            "border": null,
            "align_items": null,
            "bottom": null,
            "_model_module": "@jupyter-widgets/base",
            "top": null,
            "grid_column": null,
            "overflow_y": null,
            "overflow_x": null,
            "grid_auto_flow": null,
            "grid_area": null,
            "grid_template_columns": null,
            "flex": null,
            "_model_name": "LayoutModel",
            "justify_items": null,
            "grid_row": null,
            "max_height": null,
            "align_content": null,
            "visibility": null,
            "align_self": null,
            "height": null,
            "min_height": null,
            "padding": null,
            "grid_auto_rows": null,
            "grid_gap": null,
            "max_width": null,
            "order": null,
            "_view_module_version": "1.2.0",
            "grid_template_areas": null,
            "object_position": null,
            "object_fit": null,
            "grid_auto_columns": null,
            "margin": null,
            "display": null,
            "left": null
          }
        },
        "3c0b8cccdfd24b33bb26659b9d43e666": {
          "model_module": "@jupyter-widgets/controls",
          "model_name": "FloatProgressModel",
          "state": {
            "_view_name": "ProgressView",
            "style": "IPY_MODEL_398f416244714a3080fb28ea933fd493",
            "_dom_classes": [],
            "description": "100%",
            "_model_name": "FloatProgressModel",
            "bar_style": "success",
            "max": 7222,
            "_view_module": "@jupyter-widgets/controls",
            "_model_module_version": "1.5.0",
            "value": 7222,
            "_view_count": null,
            "_view_module_version": "1.5.0",
            "orientation": "horizontal",
            "min": 0,
            "description_tooltip": null,
            "_model_module": "@jupyter-widgets/controls",
            "layout": "IPY_MODEL_d01adebf90db4ee4a70a862f019a522b"
          }
        },
        "a90e795f1d9f4acfbd00f1f7a2019573": {
          "model_module": "@jupyter-widgets/controls",
          "model_name": "HTMLModel",
          "state": {
            "_view_name": "HTMLView",
            "style": "IPY_MODEL_25c3f0e8b2fb45bca30f66033a1859eb",
            "_dom_classes": [],
            "description": "",
            "_model_name": "HTMLModel",
            "placeholder": "​",
            "_view_module": "@jupyter-widgets/controls",
            "_model_module_version": "1.5.0",
            "value": " 7222/7222 [00:21&lt;00:00, 339.78it/s]",
            "_view_count": null,
            "_view_module_version": "1.5.0",
            "description_tooltip": null,
            "_model_module": "@jupyter-widgets/controls",
            "layout": "IPY_MODEL_62d600b0e10b434188d201334edfdcd8"
          }
        },
        "398f416244714a3080fb28ea933fd493": {
          "model_module": "@jupyter-widgets/controls",
          "model_name": "ProgressStyleModel",
          "state": {
            "_view_name": "StyleView",
            "_model_name": "ProgressStyleModel",
            "description_width": "initial",
            "_view_module": "@jupyter-widgets/base",
            "_model_module_version": "1.5.0",
            "_view_count": null,
            "_view_module_version": "1.2.0",
            "bar_color": null,
            "_model_module": "@jupyter-widgets/controls"
          }
        },
        "d01adebf90db4ee4a70a862f019a522b": {
          "model_module": "@jupyter-widgets/base",
          "model_name": "LayoutModel",
          "state": {
            "_view_name": "LayoutView",
            "grid_template_rows": null,
            "right": null,
            "justify_content": null,
            "_view_module": "@jupyter-widgets/base",
            "overflow": null,
            "_model_module_version": "1.2.0",
            "_view_count": null,
            "flex_flow": null,
            "width": null,
            "min_width": null,
            "border": null,
            "align_items": null,
            "bottom": null,
            "_model_module": "@jupyter-widgets/base",
            "top": null,
            "grid_column": null,
            "overflow_y": null,
            "overflow_x": null,
            "grid_auto_flow": null,
            "grid_area": null,
            "grid_template_columns": null,
            "flex": null,
            "_model_name": "LayoutModel",
            "justify_items": null,
            "grid_row": null,
            "max_height": null,
            "align_content": null,
            "visibility": null,
            "align_self": null,
            "height": null,
            "min_height": null,
            "padding": null,
            "grid_auto_rows": null,
            "grid_gap": null,
            "max_width": null,
            "order": null,
            "_view_module_version": "1.2.0",
            "grid_template_areas": null,
            "object_position": null,
            "object_fit": null,
            "grid_auto_columns": null,
            "margin": null,
            "display": null,
            "left": null
          }
        },
        "25c3f0e8b2fb45bca30f66033a1859eb": {
          "model_module": "@jupyter-widgets/controls",
          "model_name": "DescriptionStyleModel",
          "state": {
            "_view_name": "StyleView",
            "_model_name": "DescriptionStyleModel",
            "description_width": "",
            "_view_module": "@jupyter-widgets/base",
            "_model_module_version": "1.5.0",
            "_view_count": null,
            "_view_module_version": "1.2.0",
            "_model_module": "@jupyter-widgets/controls"
          }
        },
        "62d600b0e10b434188d201334edfdcd8": {
          "model_module": "@jupyter-widgets/base",
          "model_name": "LayoutModel",
          "state": {
            "_view_name": "LayoutView",
            "grid_template_rows": null,
            "right": null,
            "justify_content": null,
            "_view_module": "@jupyter-widgets/base",
            "overflow": null,
            "_model_module_version": "1.2.0",
            "_view_count": null,
            "flex_flow": null,
            "width": null,
            "min_width": null,
            "border": null,
            "align_items": null,
            "bottom": null,
            "_model_module": "@jupyter-widgets/base",
            "top": null,
            "grid_column": null,
            "overflow_y": null,
            "overflow_x": null,
            "grid_auto_flow": null,
            "grid_area": null,
            "grid_template_columns": null,
            "flex": null,
            "_model_name": "LayoutModel",
            "justify_items": null,
            "grid_row": null,
            "max_height": null,
            "align_content": null,
            "visibility": null,
            "align_self": null,
            "height": null,
            "min_height": null,
            "padding": null,
            "grid_auto_rows": null,
            "grid_gap": null,
            "max_width": null,
            "order": null,
            "_view_module_version": "1.2.0",
            "grid_template_areas": null,
            "object_position": null,
            "object_fit": null,
            "grid_auto_columns": null,
            "margin": null,
            "display": null,
            "left": null
          }
        },
        "9b3aac978544474cb1c7866e8fc4ca35": {
          "model_module": "@jupyter-widgets/controls",
          "model_name": "HBoxModel",
          "state": {
            "_view_name": "HBoxView",
            "_dom_classes": [],
            "_model_name": "HBoxModel",
            "_view_module": "@jupyter-widgets/controls",
            "_model_module_version": "1.5.0",
            "_view_count": null,
            "_view_module_version": "1.5.0",
            "box_style": "",
            "layout": "IPY_MODEL_1ebec4afb5744935883b51e37f02967b",
            "_model_module": "@jupyter-widgets/controls",
            "children": [
              "IPY_MODEL_e64cbec951c548bbb766cc3657d928ae",
              "IPY_MODEL_88cc15aa0aff41999166d64eb8f3ae60"
            ]
          }
        },
        "1ebec4afb5744935883b51e37f02967b": {
          "model_module": "@jupyter-widgets/base",
          "model_name": "LayoutModel",
          "state": {
            "_view_name": "LayoutView",
            "grid_template_rows": null,
            "right": null,
            "justify_content": null,
            "_view_module": "@jupyter-widgets/base",
            "overflow": null,
            "_model_module_version": "1.2.0",
            "_view_count": null,
            "flex_flow": null,
            "width": null,
            "min_width": null,
            "border": null,
            "align_items": null,
            "bottom": null,
            "_model_module": "@jupyter-widgets/base",
            "top": null,
            "grid_column": null,
            "overflow_y": null,
            "overflow_x": null,
            "grid_auto_flow": null,
            "grid_area": null,
            "grid_template_columns": null,
            "flex": null,
            "_model_name": "LayoutModel",
            "justify_items": null,
            "grid_row": null,
            "max_height": null,
            "align_content": null,
            "visibility": null,
            "align_self": null,
            "height": null,
            "min_height": null,
            "padding": null,
            "grid_auto_rows": null,
            "grid_gap": null,
            "max_width": null,
            "order": null,
            "_view_module_version": "1.2.0",
            "grid_template_areas": null,
            "object_position": null,
            "object_fit": null,
            "grid_auto_columns": null,
            "margin": null,
            "display": null,
            "left": null
          }
        },
        "e64cbec951c548bbb766cc3657d928ae": {
          "model_module": "@jupyter-widgets/controls",
          "model_name": "FloatProgressModel",
          "state": {
            "_view_name": "ProgressView",
            "style": "IPY_MODEL_f5f79ccdf43245d38b17c4c2a6fbc6de",
            "_dom_classes": [],
            "description": "100%",
            "_model_name": "FloatProgressModel",
            "bar_style": "success",
            "max": 7222,
            "_view_module": "@jupyter-widgets/controls",
            "_model_module_version": "1.5.0",
            "value": 7222,
            "_view_count": null,
            "_view_module_version": "1.5.0",
            "orientation": "horizontal",
            "min": 0,
            "description_tooltip": null,
            "_model_module": "@jupyter-widgets/controls",
            "layout": "IPY_MODEL_a89bf4e39d0e41dfbf690ac58823bc24"
          }
        },
        "88cc15aa0aff41999166d64eb8f3ae60": {
          "model_module": "@jupyter-widgets/controls",
          "model_name": "HTMLModel",
          "state": {
            "_view_name": "HTMLView",
            "style": "IPY_MODEL_eae1a2d4c48e465da03530f9f1620b46",
            "_dom_classes": [],
            "description": "",
            "_model_name": "HTMLModel",
            "placeholder": "​",
            "_view_module": "@jupyter-widgets/controls",
            "_model_module_version": "1.5.0",
            "value": " 7222/7222 [01:05&lt;00:00, 110.51it/s]",
            "_view_count": null,
            "_view_module_version": "1.5.0",
            "description_tooltip": null,
            "_model_module": "@jupyter-widgets/controls",
            "layout": "IPY_MODEL_581ff3d7962c477db078b8ec4749f3a3"
          }
        },
        "f5f79ccdf43245d38b17c4c2a6fbc6de": {
          "model_module": "@jupyter-widgets/controls",
          "model_name": "ProgressStyleModel",
          "state": {
            "_view_name": "StyleView",
            "_model_name": "ProgressStyleModel",
            "description_width": "initial",
            "_view_module": "@jupyter-widgets/base",
            "_model_module_version": "1.5.0",
            "_view_count": null,
            "_view_module_version": "1.2.0",
            "bar_color": null,
            "_model_module": "@jupyter-widgets/controls"
          }
        },
        "a89bf4e39d0e41dfbf690ac58823bc24": {
          "model_module": "@jupyter-widgets/base",
          "model_name": "LayoutModel",
          "state": {
            "_view_name": "LayoutView",
            "grid_template_rows": null,
            "right": null,
            "justify_content": null,
            "_view_module": "@jupyter-widgets/base",
            "overflow": null,
            "_model_module_version": "1.2.0",
            "_view_count": null,
            "flex_flow": null,
            "width": null,
            "min_width": null,
            "border": null,
            "align_items": null,
            "bottom": null,
            "_model_module": "@jupyter-widgets/base",
            "top": null,
            "grid_column": null,
            "overflow_y": null,
            "overflow_x": null,
            "grid_auto_flow": null,
            "grid_area": null,
            "grid_template_columns": null,
            "flex": null,
            "_model_name": "LayoutModel",
            "justify_items": null,
            "grid_row": null,
            "max_height": null,
            "align_content": null,
            "visibility": null,
            "align_self": null,
            "height": null,
            "min_height": null,
            "padding": null,
            "grid_auto_rows": null,
            "grid_gap": null,
            "max_width": null,
            "order": null,
            "_view_module_version": "1.2.0",
            "grid_template_areas": null,
            "object_position": null,
            "object_fit": null,
            "grid_auto_columns": null,
            "margin": null,
            "display": null,
            "left": null
          }
        },
        "eae1a2d4c48e465da03530f9f1620b46": {
          "model_module": "@jupyter-widgets/controls",
          "model_name": "DescriptionStyleModel",
          "state": {
            "_view_name": "StyleView",
            "_model_name": "DescriptionStyleModel",
            "description_width": "",
            "_view_module": "@jupyter-widgets/base",
            "_model_module_version": "1.5.0",
            "_view_count": null,
            "_view_module_version": "1.2.0",
            "_model_module": "@jupyter-widgets/controls"
          }
        },
        "581ff3d7962c477db078b8ec4749f3a3": {
          "model_module": "@jupyter-widgets/base",
          "model_name": "LayoutModel",
          "state": {
            "_view_name": "LayoutView",
            "grid_template_rows": null,
            "right": null,
            "justify_content": null,
            "_view_module": "@jupyter-widgets/base",
            "overflow": null,
            "_model_module_version": "1.2.0",
            "_view_count": null,
            "flex_flow": null,
            "width": null,
            "min_width": null,
            "border": null,
            "align_items": null,
            "bottom": null,
            "_model_module": "@jupyter-widgets/base",
            "top": null,
            "grid_column": null,
            "overflow_y": null,
            "overflow_x": null,
            "grid_auto_flow": null,
            "grid_area": null,
            "grid_template_columns": null,
            "flex": null,
            "_model_name": "LayoutModel",
            "justify_items": null,
            "grid_row": null,
            "max_height": null,
            "align_content": null,
            "visibility": null,
            "align_self": null,
            "height": null,
            "min_height": null,
            "padding": null,
            "grid_auto_rows": null,
            "grid_gap": null,
            "max_width": null,
            "order": null,
            "_view_module_version": "1.2.0",
            "grid_template_areas": null,
            "object_position": null,
            "object_fit": null,
            "grid_auto_columns": null,
            "margin": null,
            "display": null,
            "left": null
          }
        },
        "52cea43774734a1ea0fca34ccfb07f8d": {
          "model_module": "@jupyter-widgets/controls",
          "model_name": "HBoxModel",
          "state": {
            "_view_name": "HBoxView",
            "_dom_classes": [],
            "_model_name": "HBoxModel",
            "_view_module": "@jupyter-widgets/controls",
            "_model_module_version": "1.5.0",
            "_view_count": null,
            "_view_module_version": "1.5.0",
            "box_style": "",
            "layout": "IPY_MODEL_2e3d6b899a9f4fa9a1106360d654d478",
            "_model_module": "@jupyter-widgets/controls",
            "children": [
              "IPY_MODEL_e6c234154dec4b6dacfc6b9430017932",
              "IPY_MODEL_1423d850d9174eb1943d9c8297743044"
            ]
          }
        },
        "2e3d6b899a9f4fa9a1106360d654d478": {
          "model_module": "@jupyter-widgets/base",
          "model_name": "LayoutModel",
          "state": {
            "_view_name": "LayoutView",
            "grid_template_rows": null,
            "right": null,
            "justify_content": null,
            "_view_module": "@jupyter-widgets/base",
            "overflow": null,
            "_model_module_version": "1.2.0",
            "_view_count": null,
            "flex_flow": null,
            "width": null,
            "min_width": null,
            "border": null,
            "align_items": null,
            "bottom": null,
            "_model_module": "@jupyter-widgets/base",
            "top": null,
            "grid_column": null,
            "overflow_y": null,
            "overflow_x": null,
            "grid_auto_flow": null,
            "grid_area": null,
            "grid_template_columns": null,
            "flex": null,
            "_model_name": "LayoutModel",
            "justify_items": null,
            "grid_row": null,
            "max_height": null,
            "align_content": null,
            "visibility": null,
            "align_self": null,
            "height": null,
            "min_height": null,
            "padding": null,
            "grid_auto_rows": null,
            "grid_gap": null,
            "max_width": null,
            "order": null,
            "_view_module_version": "1.2.0",
            "grid_template_areas": null,
            "object_position": null,
            "object_fit": null,
            "grid_auto_columns": null,
            "margin": null,
            "display": null,
            "left": null
          }
        },
        "e6c234154dec4b6dacfc6b9430017932": {
          "model_module": "@jupyter-widgets/controls",
          "model_name": "FloatProgressModel",
          "state": {
            "_view_name": "ProgressView",
            "style": "IPY_MODEL_b7c2057ac6714a3c9a2e3052ca6765e8",
            "_dom_classes": [],
            "description": "100%",
            "_model_name": "FloatProgressModel",
            "bar_style": "success",
            "max": 7222,
            "_view_module": "@jupyter-widgets/controls",
            "_model_module_version": "1.5.0",
            "value": 7222,
            "_view_count": null,
            "_view_module_version": "1.5.0",
            "orientation": "horizontal",
            "min": 0,
            "description_tooltip": null,
            "_model_module": "@jupyter-widgets/controls",
            "layout": "IPY_MODEL_2c9a34f7a24c4c378e98b639435c0455"
          }
        },
        "1423d850d9174eb1943d9c8297743044": {
          "model_module": "@jupyter-widgets/controls",
          "model_name": "HTMLModel",
          "state": {
            "_view_name": "HTMLView",
            "style": "IPY_MODEL_1b1301e68da743b5b7652bdb54dd7304",
            "_dom_classes": [],
            "description": "",
            "_model_name": "HTMLModel",
            "placeholder": "​",
            "_view_module": "@jupyter-widgets/controls",
            "_model_module_version": "1.5.0",
            "value": " 7222/7222 [00:43&lt;00:00, 166.67it/s]",
            "_view_count": null,
            "_view_module_version": "1.5.0",
            "description_tooltip": null,
            "_model_module": "@jupyter-widgets/controls",
            "layout": "IPY_MODEL_5d764964cc254571b266994f3a841ce4"
          }
        },
        "b7c2057ac6714a3c9a2e3052ca6765e8": {
          "model_module": "@jupyter-widgets/controls",
          "model_name": "ProgressStyleModel",
          "state": {
            "_view_name": "StyleView",
            "_model_name": "ProgressStyleModel",
            "description_width": "initial",
            "_view_module": "@jupyter-widgets/base",
            "_model_module_version": "1.5.0",
            "_view_count": null,
            "_view_module_version": "1.2.0",
            "bar_color": null,
            "_model_module": "@jupyter-widgets/controls"
          }
        },
        "2c9a34f7a24c4c378e98b639435c0455": {
          "model_module": "@jupyter-widgets/base",
          "model_name": "LayoutModel",
          "state": {
            "_view_name": "LayoutView",
            "grid_template_rows": null,
            "right": null,
            "justify_content": null,
            "_view_module": "@jupyter-widgets/base",
            "overflow": null,
            "_model_module_version": "1.2.0",
            "_view_count": null,
            "flex_flow": null,
            "width": null,
            "min_width": null,
            "border": null,
            "align_items": null,
            "bottom": null,
            "_model_module": "@jupyter-widgets/base",
            "top": null,
            "grid_column": null,
            "overflow_y": null,
            "overflow_x": null,
            "grid_auto_flow": null,
            "grid_area": null,
            "grid_template_columns": null,
            "flex": null,
            "_model_name": "LayoutModel",
            "justify_items": null,
            "grid_row": null,
            "max_height": null,
            "align_content": null,
            "visibility": null,
            "align_self": null,
            "height": null,
            "min_height": null,
            "padding": null,
            "grid_auto_rows": null,
            "grid_gap": null,
            "max_width": null,
            "order": null,
            "_view_module_version": "1.2.0",
            "grid_template_areas": null,
            "object_position": null,
            "object_fit": null,
            "grid_auto_columns": null,
            "margin": null,
            "display": null,
            "left": null
          }
        },
        "1b1301e68da743b5b7652bdb54dd7304": {
          "model_module": "@jupyter-widgets/controls",
          "model_name": "DescriptionStyleModel",
          "state": {
            "_view_name": "StyleView",
            "_model_name": "DescriptionStyleModel",
            "description_width": "",
            "_view_module": "@jupyter-widgets/base",
            "_model_module_version": "1.5.0",
            "_view_count": null,
            "_view_module_version": "1.2.0",
            "_model_module": "@jupyter-widgets/controls"
          }
        },
        "5d764964cc254571b266994f3a841ce4": {
          "model_module": "@jupyter-widgets/base",
          "model_name": "LayoutModel",
          "state": {
            "_view_name": "LayoutView",
            "grid_template_rows": null,
            "right": null,
            "justify_content": null,
            "_view_module": "@jupyter-widgets/base",
            "overflow": null,
            "_model_module_version": "1.2.0",
            "_view_count": null,
            "flex_flow": null,
            "width": null,
            "min_width": null,
            "border": null,
            "align_items": null,
            "bottom": null,
            "_model_module": "@jupyter-widgets/base",
            "top": null,
            "grid_column": null,
            "overflow_y": null,
            "overflow_x": null,
            "grid_auto_flow": null,
            "grid_area": null,
            "grid_template_columns": null,
            "flex": null,
            "_model_name": "LayoutModel",
            "justify_items": null,
            "grid_row": null,
            "max_height": null,
            "align_content": null,
            "visibility": null,
            "align_self": null,
            "height": null,
            "min_height": null,
            "padding": null,
            "grid_auto_rows": null,
            "grid_gap": null,
            "max_width": null,
            "order": null,
            "_view_module_version": "1.2.0",
            "grid_template_areas": null,
            "object_position": null,
            "object_fit": null,
            "grid_auto_columns": null,
            "margin": null,
            "display": null,
            "left": null
          }
        },
        "218444b8737b4f1c9d8a0a916fd26297": {
          "model_module": "@jupyter-widgets/controls",
          "model_name": "HBoxModel",
          "state": {
            "_view_name": "HBoxView",
            "_dom_classes": [],
            "_model_name": "HBoxModel",
            "_view_module": "@jupyter-widgets/controls",
            "_model_module_version": "1.5.0",
            "_view_count": null,
            "_view_module_version": "1.5.0",
            "box_style": "",
            "layout": "IPY_MODEL_b4633258be0a4623bd5c9d05964fb38a",
            "_model_module": "@jupyter-widgets/controls",
            "children": [
              "IPY_MODEL_69d9c161a4264e3a8fb579095e9c638a",
              "IPY_MODEL_7a00e32559c64be1b2cea352a630f511"
            ]
          }
        },
        "b4633258be0a4623bd5c9d05964fb38a": {
          "model_module": "@jupyter-widgets/base",
          "model_name": "LayoutModel",
          "state": {
            "_view_name": "LayoutView",
            "grid_template_rows": null,
            "right": null,
            "justify_content": null,
            "_view_module": "@jupyter-widgets/base",
            "overflow": null,
            "_model_module_version": "1.2.0",
            "_view_count": null,
            "flex_flow": null,
            "width": null,
            "min_width": null,
            "border": null,
            "align_items": null,
            "bottom": null,
            "_model_module": "@jupyter-widgets/base",
            "top": null,
            "grid_column": null,
            "overflow_y": null,
            "overflow_x": null,
            "grid_auto_flow": null,
            "grid_area": null,
            "grid_template_columns": null,
            "flex": null,
            "_model_name": "LayoutModel",
            "justify_items": null,
            "grid_row": null,
            "max_height": null,
            "align_content": null,
            "visibility": null,
            "align_self": null,
            "height": null,
            "min_height": null,
            "padding": null,
            "grid_auto_rows": null,
            "grid_gap": null,
            "max_width": null,
            "order": null,
            "_view_module_version": "1.2.0",
            "grid_template_areas": null,
            "object_position": null,
            "object_fit": null,
            "grid_auto_columns": null,
            "margin": null,
            "display": null,
            "left": null
          }
        },
        "69d9c161a4264e3a8fb579095e9c638a": {
          "model_module": "@jupyter-widgets/controls",
          "model_name": "FloatProgressModel",
          "state": {
            "_view_name": "ProgressView",
            "style": "IPY_MODEL_e2cb5228ecdc4f738c790b1237ef0e71",
            "_dom_classes": [],
            "description": "100%",
            "_model_name": "FloatProgressModel",
            "bar_style": "success",
            "max": 7222,
            "_view_module": "@jupyter-widgets/controls",
            "_model_module_version": "1.5.0",
            "value": 7222,
            "_view_count": null,
            "_view_module_version": "1.5.0",
            "orientation": "horizontal",
            "min": 0,
            "description_tooltip": null,
            "_model_module": "@jupyter-widgets/controls",
            "layout": "IPY_MODEL_65d5e3c28bd34484ab215836fab3c4b1"
          }
        },
        "7a00e32559c64be1b2cea352a630f511": {
          "model_module": "@jupyter-widgets/controls",
          "model_name": "HTMLModel",
          "state": {
            "_view_name": "HTMLView",
            "style": "IPY_MODEL_2740254038ab48c59e43ad630e861419",
            "_dom_classes": [],
            "description": "",
            "_model_name": "HTMLModel",
            "placeholder": "​",
            "_view_module": "@jupyter-widgets/controls",
            "_model_module_version": "1.5.0",
            "value": " 7222/7222 [00:21&lt;00:00, 338.32it/s]",
            "_view_count": null,
            "_view_module_version": "1.5.0",
            "description_tooltip": null,
            "_model_module": "@jupyter-widgets/controls",
            "layout": "IPY_MODEL_d968adce5c724f43b9aec06c0c6ee35d"
          }
        },
        "e2cb5228ecdc4f738c790b1237ef0e71": {
          "model_module": "@jupyter-widgets/controls",
          "model_name": "ProgressStyleModel",
          "state": {
            "_view_name": "StyleView",
            "_model_name": "ProgressStyleModel",
            "description_width": "initial",
            "_view_module": "@jupyter-widgets/base",
            "_model_module_version": "1.5.0",
            "_view_count": null,
            "_view_module_version": "1.2.0",
            "bar_color": null,
            "_model_module": "@jupyter-widgets/controls"
          }
        },
        "65d5e3c28bd34484ab215836fab3c4b1": {
          "model_module": "@jupyter-widgets/base",
          "model_name": "LayoutModel",
          "state": {
            "_view_name": "LayoutView",
            "grid_template_rows": null,
            "right": null,
            "justify_content": null,
            "_view_module": "@jupyter-widgets/base",
            "overflow": null,
            "_model_module_version": "1.2.0",
            "_view_count": null,
            "flex_flow": null,
            "width": null,
            "min_width": null,
            "border": null,
            "align_items": null,
            "bottom": null,
            "_model_module": "@jupyter-widgets/base",
            "top": null,
            "grid_column": null,
            "overflow_y": null,
            "overflow_x": null,
            "grid_auto_flow": null,
            "grid_area": null,
            "grid_template_columns": null,
            "flex": null,
            "_model_name": "LayoutModel",
            "justify_items": null,
            "grid_row": null,
            "max_height": null,
            "align_content": null,
            "visibility": null,
            "align_self": null,
            "height": null,
            "min_height": null,
            "padding": null,
            "grid_auto_rows": null,
            "grid_gap": null,
            "max_width": null,
            "order": null,
            "_view_module_version": "1.2.0",
            "grid_template_areas": null,
            "object_position": null,
            "object_fit": null,
            "grid_auto_columns": null,
            "margin": null,
            "display": null,
            "left": null
          }
        },
        "2740254038ab48c59e43ad630e861419": {
          "model_module": "@jupyter-widgets/controls",
          "model_name": "DescriptionStyleModel",
          "state": {
            "_view_name": "StyleView",
            "_model_name": "DescriptionStyleModel",
            "description_width": "",
            "_view_module": "@jupyter-widgets/base",
            "_model_module_version": "1.5.0",
            "_view_count": null,
            "_view_module_version": "1.2.0",
            "_model_module": "@jupyter-widgets/controls"
          }
        },
        "d968adce5c724f43b9aec06c0c6ee35d": {
          "model_module": "@jupyter-widgets/base",
          "model_name": "LayoutModel",
          "state": {
            "_view_name": "LayoutView",
            "grid_template_rows": null,
            "right": null,
            "justify_content": null,
            "_view_module": "@jupyter-widgets/base",
            "overflow": null,
            "_model_module_version": "1.2.0",
            "_view_count": null,
            "flex_flow": null,
            "width": null,
            "min_width": null,
            "border": null,
            "align_items": null,
            "bottom": null,
            "_model_module": "@jupyter-widgets/base",
            "top": null,
            "grid_column": null,
            "overflow_y": null,
            "overflow_x": null,
            "grid_auto_flow": null,
            "grid_area": null,
            "grid_template_columns": null,
            "flex": null,
            "_model_name": "LayoutModel",
            "justify_items": null,
            "grid_row": null,
            "max_height": null,
            "align_content": null,
            "visibility": null,
            "align_self": null,
            "height": null,
            "min_height": null,
            "padding": null,
            "grid_auto_rows": null,
            "grid_gap": null,
            "max_width": null,
            "order": null,
            "_view_module_version": "1.2.0",
            "grid_template_areas": null,
            "object_position": null,
            "object_fit": null,
            "grid_auto_columns": null,
            "margin": null,
            "display": null,
            "left": null
          }
        },
        "a4f8721b103343f5aa22ef87058ec651": {
          "model_module": "@jupyter-widgets/controls",
          "model_name": "HBoxModel",
          "state": {
            "_view_name": "HBoxView",
            "_dom_classes": [],
            "_model_name": "HBoxModel",
            "_view_module": "@jupyter-widgets/controls",
            "_model_module_version": "1.5.0",
            "_view_count": null,
            "_view_module_version": "1.5.0",
            "box_style": "",
            "layout": "IPY_MODEL_ab0b8edd511849a8ad6567fbf1eba5a5",
            "_model_module": "@jupyter-widgets/controls",
            "children": [
              "IPY_MODEL_cf8036e5b6b7403f84ad29b83e57da22",
              "IPY_MODEL_9fd5c126fe3f4084b47f7957f3b65d80"
            ]
          }
        },
        "ab0b8edd511849a8ad6567fbf1eba5a5": {
          "model_module": "@jupyter-widgets/base",
          "model_name": "LayoutModel",
          "state": {
            "_view_name": "LayoutView",
            "grid_template_rows": null,
            "right": null,
            "justify_content": null,
            "_view_module": "@jupyter-widgets/base",
            "overflow": null,
            "_model_module_version": "1.2.0",
            "_view_count": null,
            "flex_flow": null,
            "width": null,
            "min_width": null,
            "border": null,
            "align_items": null,
            "bottom": null,
            "_model_module": "@jupyter-widgets/base",
            "top": null,
            "grid_column": null,
            "overflow_y": null,
            "overflow_x": null,
            "grid_auto_flow": null,
            "grid_area": null,
            "grid_template_columns": null,
            "flex": null,
            "_model_name": "LayoutModel",
            "justify_items": null,
            "grid_row": null,
            "max_height": null,
            "align_content": null,
            "visibility": null,
            "align_self": null,
            "height": null,
            "min_height": null,
            "padding": null,
            "grid_auto_rows": null,
            "grid_gap": null,
            "max_width": null,
            "order": null,
            "_view_module_version": "1.2.0",
            "grid_template_areas": null,
            "object_position": null,
            "object_fit": null,
            "grid_auto_columns": null,
            "margin": null,
            "display": null,
            "left": null
          }
        },
        "cf8036e5b6b7403f84ad29b83e57da22": {
          "model_module": "@jupyter-widgets/controls",
          "model_name": "FloatProgressModel",
          "state": {
            "_view_name": "ProgressView",
            "style": "IPY_MODEL_49788cd1c98e42edb5274341d743bb2f",
            "_dom_classes": [],
            "description": "100%",
            "_model_name": "FloatProgressModel",
            "bar_style": "success",
            "max": 7222,
            "_view_module": "@jupyter-widgets/controls",
            "_model_module_version": "1.5.0",
            "value": 7222,
            "_view_count": null,
            "_view_module_version": "1.5.0",
            "orientation": "horizontal",
            "min": 0,
            "description_tooltip": null,
            "_model_module": "@jupyter-widgets/controls",
            "layout": "IPY_MODEL_7c96a4250add47559887a2f55affc674"
          }
        },
        "9fd5c126fe3f4084b47f7957f3b65d80": {
          "model_module": "@jupyter-widgets/controls",
          "model_name": "HTMLModel",
          "state": {
            "_view_name": "HTMLView",
            "style": "IPY_MODEL_70aa59800ec24f4c91964044e865ca13",
            "_dom_classes": [],
            "description": "",
            "_model_name": "HTMLModel",
            "placeholder": "​",
            "_view_module": "@jupyter-widgets/controls",
            "_model_module_version": "1.5.0",
            "value": " 7222/7222 [00:21&lt;00:00, 339.20it/s]",
            "_view_count": null,
            "_view_module_version": "1.5.0",
            "description_tooltip": null,
            "_model_module": "@jupyter-widgets/controls",
            "layout": "IPY_MODEL_95ff66aca6844f4a8790c315f72c947c"
          }
        },
        "49788cd1c98e42edb5274341d743bb2f": {
          "model_module": "@jupyter-widgets/controls",
          "model_name": "ProgressStyleModel",
          "state": {
            "_view_name": "StyleView",
            "_model_name": "ProgressStyleModel",
            "description_width": "initial",
            "_view_module": "@jupyter-widgets/base",
            "_model_module_version": "1.5.0",
            "_view_count": null,
            "_view_module_version": "1.2.0",
            "bar_color": null,
            "_model_module": "@jupyter-widgets/controls"
          }
        },
        "7c96a4250add47559887a2f55affc674": {
          "model_module": "@jupyter-widgets/base",
          "model_name": "LayoutModel",
          "state": {
            "_view_name": "LayoutView",
            "grid_template_rows": null,
            "right": null,
            "justify_content": null,
            "_view_module": "@jupyter-widgets/base",
            "overflow": null,
            "_model_module_version": "1.2.0",
            "_view_count": null,
            "flex_flow": null,
            "width": null,
            "min_width": null,
            "border": null,
            "align_items": null,
            "bottom": null,
            "_model_module": "@jupyter-widgets/base",
            "top": null,
            "grid_column": null,
            "overflow_y": null,
            "overflow_x": null,
            "grid_auto_flow": null,
            "grid_area": null,
            "grid_template_columns": null,
            "flex": null,
            "_model_name": "LayoutModel",
            "justify_items": null,
            "grid_row": null,
            "max_height": null,
            "align_content": null,
            "visibility": null,
            "align_self": null,
            "height": null,
            "min_height": null,
            "padding": null,
            "grid_auto_rows": null,
            "grid_gap": null,
            "max_width": null,
            "order": null,
            "_view_module_version": "1.2.0",
            "grid_template_areas": null,
            "object_position": null,
            "object_fit": null,
            "grid_auto_columns": null,
            "margin": null,
            "display": null,
            "left": null
          }
        },
        "70aa59800ec24f4c91964044e865ca13": {
          "model_module": "@jupyter-widgets/controls",
          "model_name": "DescriptionStyleModel",
          "state": {
            "_view_name": "StyleView",
            "_model_name": "DescriptionStyleModel",
            "description_width": "",
            "_view_module": "@jupyter-widgets/base",
            "_model_module_version": "1.5.0",
            "_view_count": null,
            "_view_module_version": "1.2.0",
            "_model_module": "@jupyter-widgets/controls"
          }
        },
        "95ff66aca6844f4a8790c315f72c947c": {
          "model_module": "@jupyter-widgets/base",
          "model_name": "LayoutModel",
          "state": {
            "_view_name": "LayoutView",
            "grid_template_rows": null,
            "right": null,
            "justify_content": null,
            "_view_module": "@jupyter-widgets/base",
            "overflow": null,
            "_model_module_version": "1.2.0",
            "_view_count": null,
            "flex_flow": null,
            "width": null,
            "min_width": null,
            "border": null,
            "align_items": null,
            "bottom": null,
            "_model_module": "@jupyter-widgets/base",
            "top": null,
            "grid_column": null,
            "overflow_y": null,
            "overflow_x": null,
            "grid_auto_flow": null,
            "grid_area": null,
            "grid_template_columns": null,
            "flex": null,
            "_model_name": "LayoutModel",
            "justify_items": null,
            "grid_row": null,
            "max_height": null,
            "align_content": null,
            "visibility": null,
            "align_self": null,
            "height": null,
            "min_height": null,
            "padding": null,
            "grid_auto_rows": null,
            "grid_gap": null,
            "max_width": null,
            "order": null,
            "_view_module_version": "1.2.0",
            "grid_template_areas": null,
            "object_position": null,
            "object_fit": null,
            "grid_auto_columns": null,
            "margin": null,
            "display": null,
            "left": null
          }
        },
        "54a435eae215453e962f81a8384075aa": {
          "model_module": "@jupyter-widgets/controls",
          "model_name": "HBoxModel",
          "state": {
            "_view_name": "HBoxView",
            "_dom_classes": [],
            "_model_name": "HBoxModel",
            "_view_module": "@jupyter-widgets/controls",
            "_model_module_version": "1.5.0",
            "_view_count": null,
            "_view_module_version": "1.5.0",
            "box_style": "",
            "layout": "IPY_MODEL_4eab4fb32d83412e83d79b70dd30c6eb",
            "_model_module": "@jupyter-widgets/controls",
            "children": [
              "IPY_MODEL_96358e4006d74d259f98c270afe0dafa",
              "IPY_MODEL_ea064815f6c74c2088bb535040bebe09"
            ]
          }
        },
        "4eab4fb32d83412e83d79b70dd30c6eb": {
          "model_module": "@jupyter-widgets/base",
          "model_name": "LayoutModel",
          "state": {
            "_view_name": "LayoutView",
            "grid_template_rows": null,
            "right": null,
            "justify_content": null,
            "_view_module": "@jupyter-widgets/base",
            "overflow": null,
            "_model_module_version": "1.2.0",
            "_view_count": null,
            "flex_flow": null,
            "width": null,
            "min_width": null,
            "border": null,
            "align_items": null,
            "bottom": null,
            "_model_module": "@jupyter-widgets/base",
            "top": null,
            "grid_column": null,
            "overflow_y": null,
            "overflow_x": null,
            "grid_auto_flow": null,
            "grid_area": null,
            "grid_template_columns": null,
            "flex": null,
            "_model_name": "LayoutModel",
            "justify_items": null,
            "grid_row": null,
            "max_height": null,
            "align_content": null,
            "visibility": null,
            "align_self": null,
            "height": null,
            "min_height": null,
            "padding": null,
            "grid_auto_rows": null,
            "grid_gap": null,
            "max_width": null,
            "order": null,
            "_view_module_version": "1.2.0",
            "grid_template_areas": null,
            "object_position": null,
            "object_fit": null,
            "grid_auto_columns": null,
            "margin": null,
            "display": null,
            "left": null
          }
        },
        "96358e4006d74d259f98c270afe0dafa": {
          "model_module": "@jupyter-widgets/controls",
          "model_name": "FloatProgressModel",
          "state": {
            "_view_name": "ProgressView",
            "style": "IPY_MODEL_b9c1e500c7e6474ebf632ef062be4ede",
            "_dom_classes": [],
            "description": "100%",
            "_model_name": "FloatProgressModel",
            "bar_style": "success",
            "max": 7222,
            "_view_module": "@jupyter-widgets/controls",
            "_model_module_version": "1.5.0",
            "value": 7222,
            "_view_count": null,
            "_view_module_version": "1.5.0",
            "orientation": "horizontal",
            "min": 0,
            "description_tooltip": null,
            "_model_module": "@jupyter-widgets/controls",
            "layout": "IPY_MODEL_a83b713c7a99447fbbc8152b9c67e563"
          }
        },
        "ea064815f6c74c2088bb535040bebe09": {
          "model_module": "@jupyter-widgets/controls",
          "model_name": "HTMLModel",
          "state": {
            "_view_name": "HTMLView",
            "style": "IPY_MODEL_f6a96f286f1c4b2aae8eba79825d8bed",
            "_dom_classes": [],
            "description": "",
            "_model_name": "HTMLModel",
            "placeholder": "​",
            "_view_module": "@jupyter-widgets/controls",
            "_model_module_version": "1.5.0",
            "value": " 7222/7222 [01:23&lt;00:00, 86.92it/s]",
            "_view_count": null,
            "_view_module_version": "1.5.0",
            "description_tooltip": null,
            "_model_module": "@jupyter-widgets/controls",
            "layout": "IPY_MODEL_7370a62c309b45b2933a43c21189f68d"
          }
        },
        "b9c1e500c7e6474ebf632ef062be4ede": {
          "model_module": "@jupyter-widgets/controls",
          "model_name": "ProgressStyleModel",
          "state": {
            "_view_name": "StyleView",
            "_model_name": "ProgressStyleModel",
            "description_width": "initial",
            "_view_module": "@jupyter-widgets/base",
            "_model_module_version": "1.5.0",
            "_view_count": null,
            "_view_module_version": "1.2.0",
            "bar_color": null,
            "_model_module": "@jupyter-widgets/controls"
          }
        },
        "a83b713c7a99447fbbc8152b9c67e563": {
          "model_module": "@jupyter-widgets/base",
          "model_name": "LayoutModel",
          "state": {
            "_view_name": "LayoutView",
            "grid_template_rows": null,
            "right": null,
            "justify_content": null,
            "_view_module": "@jupyter-widgets/base",
            "overflow": null,
            "_model_module_version": "1.2.0",
            "_view_count": null,
            "flex_flow": null,
            "width": null,
            "min_width": null,
            "border": null,
            "align_items": null,
            "bottom": null,
            "_model_module": "@jupyter-widgets/base",
            "top": null,
            "grid_column": null,
            "overflow_y": null,
            "overflow_x": null,
            "grid_auto_flow": null,
            "grid_area": null,
            "grid_template_columns": null,
            "flex": null,
            "_model_name": "LayoutModel",
            "justify_items": null,
            "grid_row": null,
            "max_height": null,
            "align_content": null,
            "visibility": null,
            "align_self": null,
            "height": null,
            "min_height": null,
            "padding": null,
            "grid_auto_rows": null,
            "grid_gap": null,
            "max_width": null,
            "order": null,
            "_view_module_version": "1.2.0",
            "grid_template_areas": null,
            "object_position": null,
            "object_fit": null,
            "grid_auto_columns": null,
            "margin": null,
            "display": null,
            "left": null
          }
        },
        "f6a96f286f1c4b2aae8eba79825d8bed": {
          "model_module": "@jupyter-widgets/controls",
          "model_name": "DescriptionStyleModel",
          "state": {
            "_view_name": "StyleView",
            "_model_name": "DescriptionStyleModel",
            "description_width": "",
            "_view_module": "@jupyter-widgets/base",
            "_model_module_version": "1.5.0",
            "_view_count": null,
            "_view_module_version": "1.2.0",
            "_model_module": "@jupyter-widgets/controls"
          }
        },
        "7370a62c309b45b2933a43c21189f68d": {
          "model_module": "@jupyter-widgets/base",
          "model_name": "LayoutModel",
          "state": {
            "_view_name": "LayoutView",
            "grid_template_rows": null,
            "right": null,
            "justify_content": null,
            "_view_module": "@jupyter-widgets/base",
            "overflow": null,
            "_model_module_version": "1.2.0",
            "_view_count": null,
            "flex_flow": null,
            "width": null,
            "min_width": null,
            "border": null,
            "align_items": null,
            "bottom": null,
            "_model_module": "@jupyter-widgets/base",
            "top": null,
            "grid_column": null,
            "overflow_y": null,
            "overflow_x": null,
            "grid_auto_flow": null,
            "grid_area": null,
            "grid_template_columns": null,
            "flex": null,
            "_model_name": "LayoutModel",
            "justify_items": null,
            "grid_row": null,
            "max_height": null,
            "align_content": null,
            "visibility": null,
            "align_self": null,
            "height": null,
            "min_height": null,
            "padding": null,
            "grid_auto_rows": null,
            "grid_gap": null,
            "max_width": null,
            "order": null,
            "_view_module_version": "1.2.0",
            "grid_template_areas": null,
            "object_position": null,
            "object_fit": null,
            "grid_auto_columns": null,
            "margin": null,
            "display": null,
            "left": null
          }
        },
        "b3978aa54eb24b71b139a4c8955cb4cf": {
          "model_module": "@jupyter-widgets/controls",
          "model_name": "HBoxModel",
          "state": {
            "_view_name": "HBoxView",
            "_dom_classes": [],
            "_model_name": "HBoxModel",
            "_view_module": "@jupyter-widgets/controls",
            "_model_module_version": "1.5.0",
            "_view_count": null,
            "_view_module_version": "1.5.0",
            "box_style": "",
            "layout": "IPY_MODEL_a888db1190dc4c30ae1df8baf37925b9",
            "_model_module": "@jupyter-widgets/controls",
            "children": [
              "IPY_MODEL_1ebc2b00e2f84b29a03afa1a8a0db95e",
              "IPY_MODEL_995767284f594be69b9deb6a04d167b1"
            ]
          }
        },
        "a888db1190dc4c30ae1df8baf37925b9": {
          "model_module": "@jupyter-widgets/base",
          "model_name": "LayoutModel",
          "state": {
            "_view_name": "LayoutView",
            "grid_template_rows": null,
            "right": null,
            "justify_content": null,
            "_view_module": "@jupyter-widgets/base",
            "overflow": null,
            "_model_module_version": "1.2.0",
            "_view_count": null,
            "flex_flow": null,
            "width": null,
            "min_width": null,
            "border": null,
            "align_items": null,
            "bottom": null,
            "_model_module": "@jupyter-widgets/base",
            "top": null,
            "grid_column": null,
            "overflow_y": null,
            "overflow_x": null,
            "grid_auto_flow": null,
            "grid_area": null,
            "grid_template_columns": null,
            "flex": null,
            "_model_name": "LayoutModel",
            "justify_items": null,
            "grid_row": null,
            "max_height": null,
            "align_content": null,
            "visibility": null,
            "align_self": null,
            "height": null,
            "min_height": null,
            "padding": null,
            "grid_auto_rows": null,
            "grid_gap": null,
            "max_width": null,
            "order": null,
            "_view_module_version": "1.2.0",
            "grid_template_areas": null,
            "object_position": null,
            "object_fit": null,
            "grid_auto_columns": null,
            "margin": null,
            "display": null,
            "left": null
          }
        },
        "1ebc2b00e2f84b29a03afa1a8a0db95e": {
          "model_module": "@jupyter-widgets/controls",
          "model_name": "FloatProgressModel",
          "state": {
            "_view_name": "ProgressView",
            "style": "IPY_MODEL_0ec9119474f840c9b6706d5b821a87a3",
            "_dom_classes": [],
            "description": "100%",
            "_model_name": "FloatProgressModel",
            "bar_style": "success",
            "max": 7222,
            "_view_module": "@jupyter-widgets/controls",
            "_model_module_version": "1.5.0",
            "value": 7222,
            "_view_count": null,
            "_view_module_version": "1.5.0",
            "orientation": "horizontal",
            "min": 0,
            "description_tooltip": null,
            "_model_module": "@jupyter-widgets/controls",
            "layout": "IPY_MODEL_0351e40e91fb454d89204f8c6121f1a1"
          }
        },
        "995767284f594be69b9deb6a04d167b1": {
          "model_module": "@jupyter-widgets/controls",
          "model_name": "HTMLModel",
          "state": {
            "_view_name": "HTMLView",
            "style": "IPY_MODEL_47cec75e491b4b89b29afd7341f55f74",
            "_dom_classes": [],
            "description": "",
            "_model_name": "HTMLModel",
            "placeholder": "​",
            "_view_module": "@jupyter-widgets/controls",
            "_model_module_version": "1.5.0",
            "value": " 7222/7222 [00:55&lt;00:00, 130.22it/s]",
            "_view_count": null,
            "_view_module_version": "1.5.0",
            "description_tooltip": null,
            "_model_module": "@jupyter-widgets/controls",
            "layout": "IPY_MODEL_cc1dfb7c73e84b17a7e55acffc1a0b23"
          }
        },
        "0ec9119474f840c9b6706d5b821a87a3": {
          "model_module": "@jupyter-widgets/controls",
          "model_name": "ProgressStyleModel",
          "state": {
            "_view_name": "StyleView",
            "_model_name": "ProgressStyleModel",
            "description_width": "initial",
            "_view_module": "@jupyter-widgets/base",
            "_model_module_version": "1.5.0",
            "_view_count": null,
            "_view_module_version": "1.2.0",
            "bar_color": null,
            "_model_module": "@jupyter-widgets/controls"
          }
        },
        "0351e40e91fb454d89204f8c6121f1a1": {
          "model_module": "@jupyter-widgets/base",
          "model_name": "LayoutModel",
          "state": {
            "_view_name": "LayoutView",
            "grid_template_rows": null,
            "right": null,
            "justify_content": null,
            "_view_module": "@jupyter-widgets/base",
            "overflow": null,
            "_model_module_version": "1.2.0",
            "_view_count": null,
            "flex_flow": null,
            "width": null,
            "min_width": null,
            "border": null,
            "align_items": null,
            "bottom": null,
            "_model_module": "@jupyter-widgets/base",
            "top": null,
            "grid_column": null,
            "overflow_y": null,
            "overflow_x": null,
            "grid_auto_flow": null,
            "grid_area": null,
            "grid_template_columns": null,
            "flex": null,
            "_model_name": "LayoutModel",
            "justify_items": null,
            "grid_row": null,
            "max_height": null,
            "align_content": null,
            "visibility": null,
            "align_self": null,
            "height": null,
            "min_height": null,
            "padding": null,
            "grid_auto_rows": null,
            "grid_gap": null,
            "max_width": null,
            "order": null,
            "_view_module_version": "1.2.0",
            "grid_template_areas": null,
            "object_position": null,
            "object_fit": null,
            "grid_auto_columns": null,
            "margin": null,
            "display": null,
            "left": null
          }
        },
        "47cec75e491b4b89b29afd7341f55f74": {
          "model_module": "@jupyter-widgets/controls",
          "model_name": "DescriptionStyleModel",
          "state": {
            "_view_name": "StyleView",
            "_model_name": "DescriptionStyleModel",
            "description_width": "",
            "_view_module": "@jupyter-widgets/base",
            "_model_module_version": "1.5.0",
            "_view_count": null,
            "_view_module_version": "1.2.0",
            "_model_module": "@jupyter-widgets/controls"
          }
        },
        "cc1dfb7c73e84b17a7e55acffc1a0b23": {
          "model_module": "@jupyter-widgets/base",
          "model_name": "LayoutModel",
          "state": {
            "_view_name": "LayoutView",
            "grid_template_rows": null,
            "right": null,
            "justify_content": null,
            "_view_module": "@jupyter-widgets/base",
            "overflow": null,
            "_model_module_version": "1.2.0",
            "_view_count": null,
            "flex_flow": null,
            "width": null,
            "min_width": null,
            "border": null,
            "align_items": null,
            "bottom": null,
            "_model_module": "@jupyter-widgets/base",
            "top": null,
            "grid_column": null,
            "overflow_y": null,
            "overflow_x": null,
            "grid_auto_flow": null,
            "grid_area": null,
            "grid_template_columns": null,
            "flex": null,
            "_model_name": "LayoutModel",
            "justify_items": null,
            "grid_row": null,
            "max_height": null,
            "align_content": null,
            "visibility": null,
            "align_self": null,
            "height": null,
            "min_height": null,
            "padding": null,
            "grid_auto_rows": null,
            "grid_gap": null,
            "max_width": null,
            "order": null,
            "_view_module_version": "1.2.0",
            "grid_template_areas": null,
            "object_position": null,
            "object_fit": null,
            "grid_auto_columns": null,
            "margin": null,
            "display": null,
            "left": null
          }
        },
        "9d720b8c92974ccdb34275d1c891d183": {
          "model_module": "@jupyter-widgets/controls",
          "model_name": "HBoxModel",
          "state": {
            "_view_name": "HBoxView",
            "_dom_classes": [],
            "_model_name": "HBoxModel",
            "_view_module": "@jupyter-widgets/controls",
            "_model_module_version": "1.5.0",
            "_view_count": null,
            "_view_module_version": "1.5.0",
            "box_style": "",
            "layout": "IPY_MODEL_ba55e485b7634e08b17d27ea50507657",
            "_model_module": "@jupyter-widgets/controls",
            "children": [
              "IPY_MODEL_5d5c14e0f8694a5e8c3b8cb661f6523d",
              "IPY_MODEL_cc26e249e5584c98b5f9d5bce8f5a6aa"
            ]
          }
        },
        "ba55e485b7634e08b17d27ea50507657": {
          "model_module": "@jupyter-widgets/base",
          "model_name": "LayoutModel",
          "state": {
            "_view_name": "LayoutView",
            "grid_template_rows": null,
            "right": null,
            "justify_content": null,
            "_view_module": "@jupyter-widgets/base",
            "overflow": null,
            "_model_module_version": "1.2.0",
            "_view_count": null,
            "flex_flow": null,
            "width": null,
            "min_width": null,
            "border": null,
            "align_items": null,
            "bottom": null,
            "_model_module": "@jupyter-widgets/base",
            "top": null,
            "grid_column": null,
            "overflow_y": null,
            "overflow_x": null,
            "grid_auto_flow": null,
            "grid_area": null,
            "grid_template_columns": null,
            "flex": null,
            "_model_name": "LayoutModel",
            "justify_items": null,
            "grid_row": null,
            "max_height": null,
            "align_content": null,
            "visibility": null,
            "align_self": null,
            "height": null,
            "min_height": null,
            "padding": null,
            "grid_auto_rows": null,
            "grid_gap": null,
            "max_width": null,
            "order": null,
            "_view_module_version": "1.2.0",
            "grid_template_areas": null,
            "object_position": null,
            "object_fit": null,
            "grid_auto_columns": null,
            "margin": null,
            "display": null,
            "left": null
          }
        },
        "5d5c14e0f8694a5e8c3b8cb661f6523d": {
          "model_module": "@jupyter-widgets/controls",
          "model_name": "FloatProgressModel",
          "state": {
            "_view_name": "ProgressView",
            "style": "IPY_MODEL_485399d5517e4582a5e2554a67cbcc7d",
            "_dom_classes": [],
            "description": "100%",
            "_model_name": "FloatProgressModel",
            "bar_style": "success",
            "max": 7222,
            "_view_module": "@jupyter-widgets/controls",
            "_model_module_version": "1.5.0",
            "value": 7222,
            "_view_count": null,
            "_view_module_version": "1.5.0",
            "orientation": "horizontal",
            "min": 0,
            "description_tooltip": null,
            "_model_module": "@jupyter-widgets/controls",
            "layout": "IPY_MODEL_ce293e7933a4449db75c7934e64f1519"
          }
        },
        "cc26e249e5584c98b5f9d5bce8f5a6aa": {
          "model_module": "@jupyter-widgets/controls",
          "model_name": "HTMLModel",
          "state": {
            "_view_name": "HTMLView",
            "style": "IPY_MODEL_ac3a489b1d9d4c0da12e68e3217e24e8",
            "_dom_classes": [],
            "description": "",
            "_model_name": "HTMLModel",
            "placeholder": "​",
            "_view_module": "@jupyter-widgets/controls",
            "_model_module_version": "1.5.0",
            "value": " 7222/7222 [00:26&lt;00:00, 271.53it/s]",
            "_view_count": null,
            "_view_module_version": "1.5.0",
            "description_tooltip": null,
            "_model_module": "@jupyter-widgets/controls",
            "layout": "IPY_MODEL_a1423ef18e344494ad7eafad0f9a6646"
          }
        },
        "485399d5517e4582a5e2554a67cbcc7d": {
          "model_module": "@jupyter-widgets/controls",
          "model_name": "ProgressStyleModel",
          "state": {
            "_view_name": "StyleView",
            "_model_name": "ProgressStyleModel",
            "description_width": "initial",
            "_view_module": "@jupyter-widgets/base",
            "_model_module_version": "1.5.0",
            "_view_count": null,
            "_view_module_version": "1.2.0",
            "bar_color": null,
            "_model_module": "@jupyter-widgets/controls"
          }
        },
        "ce293e7933a4449db75c7934e64f1519": {
          "model_module": "@jupyter-widgets/base",
          "model_name": "LayoutModel",
          "state": {
            "_view_name": "LayoutView",
            "grid_template_rows": null,
            "right": null,
            "justify_content": null,
            "_view_module": "@jupyter-widgets/base",
            "overflow": null,
            "_model_module_version": "1.2.0",
            "_view_count": null,
            "flex_flow": null,
            "width": null,
            "min_width": null,
            "border": null,
            "align_items": null,
            "bottom": null,
            "_model_module": "@jupyter-widgets/base",
            "top": null,
            "grid_column": null,
            "overflow_y": null,
            "overflow_x": null,
            "grid_auto_flow": null,
            "grid_area": null,
            "grid_template_columns": null,
            "flex": null,
            "_model_name": "LayoutModel",
            "justify_items": null,
            "grid_row": null,
            "max_height": null,
            "align_content": null,
            "visibility": null,
            "align_self": null,
            "height": null,
            "min_height": null,
            "padding": null,
            "grid_auto_rows": null,
            "grid_gap": null,
            "max_width": null,
            "order": null,
            "_view_module_version": "1.2.0",
            "grid_template_areas": null,
            "object_position": null,
            "object_fit": null,
            "grid_auto_columns": null,
            "margin": null,
            "display": null,
            "left": null
          }
        },
        "ac3a489b1d9d4c0da12e68e3217e24e8": {
          "model_module": "@jupyter-widgets/controls",
          "model_name": "DescriptionStyleModel",
          "state": {
            "_view_name": "StyleView",
            "_model_name": "DescriptionStyleModel",
            "description_width": "",
            "_view_module": "@jupyter-widgets/base",
            "_model_module_version": "1.5.0",
            "_view_count": null,
            "_view_module_version": "1.2.0",
            "_model_module": "@jupyter-widgets/controls"
          }
        },
        "a1423ef18e344494ad7eafad0f9a6646": {
          "model_module": "@jupyter-widgets/base",
          "model_name": "LayoutModel",
          "state": {
            "_view_name": "LayoutView",
            "grid_template_rows": null,
            "right": null,
            "justify_content": null,
            "_view_module": "@jupyter-widgets/base",
            "overflow": null,
            "_model_module_version": "1.2.0",
            "_view_count": null,
            "flex_flow": null,
            "width": null,
            "min_width": null,
            "border": null,
            "align_items": null,
            "bottom": null,
            "_model_module": "@jupyter-widgets/base",
            "top": null,
            "grid_column": null,
            "overflow_y": null,
            "overflow_x": null,
            "grid_auto_flow": null,
            "grid_area": null,
            "grid_template_columns": null,
            "flex": null,
            "_model_name": "LayoutModel",
            "justify_items": null,
            "grid_row": null,
            "max_height": null,
            "align_content": null,
            "visibility": null,
            "align_self": null,
            "height": null,
            "min_height": null,
            "padding": null,
            "grid_auto_rows": null,
            "grid_gap": null,
            "max_width": null,
            "order": null,
            "_view_module_version": "1.2.0",
            "grid_template_areas": null,
            "object_position": null,
            "object_fit": null,
            "grid_auto_columns": null,
            "margin": null,
            "display": null,
            "left": null
          }
        },
        "6fc76257a05441e7bf7e7a15e9955743": {
          "model_module": "@jupyter-widgets/controls",
          "model_name": "HBoxModel",
          "state": {
            "_view_name": "HBoxView",
            "_dom_classes": [],
            "_model_name": "HBoxModel",
            "_view_module": "@jupyter-widgets/controls",
            "_model_module_version": "1.5.0",
            "_view_count": null,
            "_view_module_version": "1.5.0",
            "box_style": "",
            "layout": "IPY_MODEL_5ca43e2f491b4a6d9e994591e72806e1",
            "_model_module": "@jupyter-widgets/controls",
            "children": [
              "IPY_MODEL_0aab6e8aa5e4451bb0e1dee88141d131",
              "IPY_MODEL_2858f8a98d1c4efcaf388c27a2e5b0cf"
            ]
          }
        },
        "5ca43e2f491b4a6d9e994591e72806e1": {
          "model_module": "@jupyter-widgets/base",
          "model_name": "LayoutModel",
          "state": {
            "_view_name": "LayoutView",
            "grid_template_rows": null,
            "right": null,
            "justify_content": null,
            "_view_module": "@jupyter-widgets/base",
            "overflow": null,
            "_model_module_version": "1.2.0",
            "_view_count": null,
            "flex_flow": null,
            "width": null,
            "min_width": null,
            "border": null,
            "align_items": null,
            "bottom": null,
            "_model_module": "@jupyter-widgets/base",
            "top": null,
            "grid_column": null,
            "overflow_y": null,
            "overflow_x": null,
            "grid_auto_flow": null,
            "grid_area": null,
            "grid_template_columns": null,
            "flex": null,
            "_model_name": "LayoutModel",
            "justify_items": null,
            "grid_row": null,
            "max_height": null,
            "align_content": null,
            "visibility": null,
            "align_self": null,
            "height": null,
            "min_height": null,
            "padding": null,
            "grid_auto_rows": null,
            "grid_gap": null,
            "max_width": null,
            "order": null,
            "_view_module_version": "1.2.0",
            "grid_template_areas": null,
            "object_position": null,
            "object_fit": null,
            "grid_auto_columns": null,
            "margin": null,
            "display": null,
            "left": null
          }
        },
        "0aab6e8aa5e4451bb0e1dee88141d131": {
          "model_module": "@jupyter-widgets/controls",
          "model_name": "FloatProgressModel",
          "state": {
            "_view_name": "ProgressView",
            "style": "IPY_MODEL_96334f493a484bd89bface24bcd976dd",
            "_dom_classes": [],
            "description": "100%",
            "_model_name": "FloatProgressModel",
            "bar_style": "success",
            "max": 7222,
            "_view_module": "@jupyter-widgets/controls",
            "_model_module_version": "1.5.0",
            "value": 7222,
            "_view_count": null,
            "_view_module_version": "1.5.0",
            "orientation": "horizontal",
            "min": 0,
            "description_tooltip": null,
            "_model_module": "@jupyter-widgets/controls",
            "layout": "IPY_MODEL_ba39ce2a2c964ae1a42f407de2f059b5"
          }
        },
        "2858f8a98d1c4efcaf388c27a2e5b0cf": {
          "model_module": "@jupyter-widgets/controls",
          "model_name": "HTMLModel",
          "state": {
            "_view_name": "HTMLView",
            "style": "IPY_MODEL_6de9770173164020a9f54519ba325b59",
            "_dom_classes": [],
            "description": "",
            "_model_name": "HTMLModel",
            "placeholder": "​",
            "_view_module": "@jupyter-widgets/controls",
            "_model_module_version": "1.5.0",
            "value": " 7222/7222 [00:26&lt;00:00, 271.38it/s]",
            "_view_count": null,
            "_view_module_version": "1.5.0",
            "description_tooltip": null,
            "_model_module": "@jupyter-widgets/controls",
            "layout": "IPY_MODEL_2879ed3c04504d16be3b5cec14b93d3f"
          }
        },
        "96334f493a484bd89bface24bcd976dd": {
          "model_module": "@jupyter-widgets/controls",
          "model_name": "ProgressStyleModel",
          "state": {
            "_view_name": "StyleView",
            "_model_name": "ProgressStyleModel",
            "description_width": "initial",
            "_view_module": "@jupyter-widgets/base",
            "_model_module_version": "1.5.0",
            "_view_count": null,
            "_view_module_version": "1.2.0",
            "bar_color": null,
            "_model_module": "@jupyter-widgets/controls"
          }
        },
        "ba39ce2a2c964ae1a42f407de2f059b5": {
          "model_module": "@jupyter-widgets/base",
          "model_name": "LayoutModel",
          "state": {
            "_view_name": "LayoutView",
            "grid_template_rows": null,
            "right": null,
            "justify_content": null,
            "_view_module": "@jupyter-widgets/base",
            "overflow": null,
            "_model_module_version": "1.2.0",
            "_view_count": null,
            "flex_flow": null,
            "width": null,
            "min_width": null,
            "border": null,
            "align_items": null,
            "bottom": null,
            "_model_module": "@jupyter-widgets/base",
            "top": null,
            "grid_column": null,
            "overflow_y": null,
            "overflow_x": null,
            "grid_auto_flow": null,
            "grid_area": null,
            "grid_template_columns": null,
            "flex": null,
            "_model_name": "LayoutModel",
            "justify_items": null,
            "grid_row": null,
            "max_height": null,
            "align_content": null,
            "visibility": null,
            "align_self": null,
            "height": null,
            "min_height": null,
            "padding": null,
            "grid_auto_rows": null,
            "grid_gap": null,
            "max_width": null,
            "order": null,
            "_view_module_version": "1.2.0",
            "grid_template_areas": null,
            "object_position": null,
            "object_fit": null,
            "grid_auto_columns": null,
            "margin": null,
            "display": null,
            "left": null
          }
        },
        "6de9770173164020a9f54519ba325b59": {
          "model_module": "@jupyter-widgets/controls",
          "model_name": "DescriptionStyleModel",
          "state": {
            "_view_name": "StyleView",
            "_model_name": "DescriptionStyleModel",
            "description_width": "",
            "_view_module": "@jupyter-widgets/base",
            "_model_module_version": "1.5.0",
            "_view_count": null,
            "_view_module_version": "1.2.0",
            "_model_module": "@jupyter-widgets/controls"
          }
        },
        "2879ed3c04504d16be3b5cec14b93d3f": {
          "model_module": "@jupyter-widgets/base",
          "model_name": "LayoutModel",
          "state": {
            "_view_name": "LayoutView",
            "grid_template_rows": null,
            "right": null,
            "justify_content": null,
            "_view_module": "@jupyter-widgets/base",
            "overflow": null,
            "_model_module_version": "1.2.0",
            "_view_count": null,
            "flex_flow": null,
            "width": null,
            "min_width": null,
            "border": null,
            "align_items": null,
            "bottom": null,
            "_model_module": "@jupyter-widgets/base",
            "top": null,
            "grid_column": null,
            "overflow_y": null,
            "overflow_x": null,
            "grid_auto_flow": null,
            "grid_area": null,
            "grid_template_columns": null,
            "flex": null,
            "_model_name": "LayoutModel",
            "justify_items": null,
            "grid_row": null,
            "max_height": null,
            "align_content": null,
            "visibility": null,
            "align_self": null,
            "height": null,
            "min_height": null,
            "padding": null,
            "grid_auto_rows": null,
            "grid_gap": null,
            "max_width": null,
            "order": null,
            "_view_module_version": "1.2.0",
            "grid_template_areas": null,
            "object_position": null,
            "object_fit": null,
            "grid_auto_columns": null,
            "margin": null,
            "display": null,
            "left": null
          }
        },
        "429a510d4c5b47a189123f276478741c": {
          "model_module": "@jupyter-widgets/controls",
          "model_name": "HBoxModel",
          "state": {
            "_view_name": "HBoxView",
            "_dom_classes": [],
            "_model_name": "HBoxModel",
            "_view_module": "@jupyter-widgets/controls",
            "_model_module_version": "1.5.0",
            "_view_count": null,
            "_view_module_version": "1.5.0",
            "box_style": "",
            "layout": "IPY_MODEL_21fff3a34aab419eaad7954d9cbe0bc5",
            "_model_module": "@jupyter-widgets/controls",
            "children": [
              "IPY_MODEL_b05436b940bf400482f0771801517489",
              "IPY_MODEL_5a6c179f51dd411d921b7f9f5cc3fb86"
            ]
          }
        },
        "21fff3a34aab419eaad7954d9cbe0bc5": {
          "model_module": "@jupyter-widgets/base",
          "model_name": "LayoutModel",
          "state": {
            "_view_name": "LayoutView",
            "grid_template_rows": null,
            "right": null,
            "justify_content": null,
            "_view_module": "@jupyter-widgets/base",
            "overflow": null,
            "_model_module_version": "1.2.0",
            "_view_count": null,
            "flex_flow": null,
            "width": null,
            "min_width": null,
            "border": null,
            "align_items": null,
            "bottom": null,
            "_model_module": "@jupyter-widgets/base",
            "top": null,
            "grid_column": null,
            "overflow_y": null,
            "overflow_x": null,
            "grid_auto_flow": null,
            "grid_area": null,
            "grid_template_columns": null,
            "flex": null,
            "_model_name": "LayoutModel",
            "justify_items": null,
            "grid_row": null,
            "max_height": null,
            "align_content": null,
            "visibility": null,
            "align_self": null,
            "height": null,
            "min_height": null,
            "padding": null,
            "grid_auto_rows": null,
            "grid_gap": null,
            "max_width": null,
            "order": null,
            "_view_module_version": "1.2.0",
            "grid_template_areas": null,
            "object_position": null,
            "object_fit": null,
            "grid_auto_columns": null,
            "margin": null,
            "display": null,
            "left": null
          }
        },
        "b05436b940bf400482f0771801517489": {
          "model_module": "@jupyter-widgets/controls",
          "model_name": "FloatProgressModel",
          "state": {
            "_view_name": "ProgressView",
            "style": "IPY_MODEL_ed9247bed2294579b34002e0213ca9ab",
            "_dom_classes": [],
            "description": "100%",
            "_model_name": "FloatProgressModel",
            "bar_style": "success",
            "max": 7222,
            "_view_module": "@jupyter-widgets/controls",
            "_model_module_version": "1.5.0",
            "value": 7222,
            "_view_count": null,
            "_view_module_version": "1.5.0",
            "orientation": "horizontal",
            "min": 0,
            "description_tooltip": null,
            "_model_module": "@jupyter-widgets/controls",
            "layout": "IPY_MODEL_d2c1438892d84be28159d2eae14dbc91"
          }
        },
        "5a6c179f51dd411d921b7f9f5cc3fb86": {
          "model_module": "@jupyter-widgets/controls",
          "model_name": "HTMLModel",
          "state": {
            "_view_name": "HTMLView",
            "style": "IPY_MODEL_b98ccf17fac847358c33614ee1fe84da",
            "_dom_classes": [],
            "description": "",
            "_model_name": "HTMLModel",
            "placeholder": "​",
            "_view_module": "@jupyter-widgets/controls",
            "_model_module_version": "1.5.0",
            "value": " 7222/7222 [00:34&lt;00:00, 209.53it/s]",
            "_view_count": null,
            "_view_module_version": "1.5.0",
            "description_tooltip": null,
            "_model_module": "@jupyter-widgets/controls",
            "layout": "IPY_MODEL_42ffeb39920644c8aa3b3413b89098e8"
          }
        },
        "ed9247bed2294579b34002e0213ca9ab": {
          "model_module": "@jupyter-widgets/controls",
          "model_name": "ProgressStyleModel",
          "state": {
            "_view_name": "StyleView",
            "_model_name": "ProgressStyleModel",
            "description_width": "initial",
            "_view_module": "@jupyter-widgets/base",
            "_model_module_version": "1.5.0",
            "_view_count": null,
            "_view_module_version": "1.2.0",
            "bar_color": null,
            "_model_module": "@jupyter-widgets/controls"
          }
        },
        "d2c1438892d84be28159d2eae14dbc91": {
          "model_module": "@jupyter-widgets/base",
          "model_name": "LayoutModel",
          "state": {
            "_view_name": "LayoutView",
            "grid_template_rows": null,
            "right": null,
            "justify_content": null,
            "_view_module": "@jupyter-widgets/base",
            "overflow": null,
            "_model_module_version": "1.2.0",
            "_view_count": null,
            "flex_flow": null,
            "width": null,
            "min_width": null,
            "border": null,
            "align_items": null,
            "bottom": null,
            "_model_module": "@jupyter-widgets/base",
            "top": null,
            "grid_column": null,
            "overflow_y": null,
            "overflow_x": null,
            "grid_auto_flow": null,
            "grid_area": null,
            "grid_template_columns": null,
            "flex": null,
            "_model_name": "LayoutModel",
            "justify_items": null,
            "grid_row": null,
            "max_height": null,
            "align_content": null,
            "visibility": null,
            "align_self": null,
            "height": null,
            "min_height": null,
            "padding": null,
            "grid_auto_rows": null,
            "grid_gap": null,
            "max_width": null,
            "order": null,
            "_view_module_version": "1.2.0",
            "grid_template_areas": null,
            "object_position": null,
            "object_fit": null,
            "grid_auto_columns": null,
            "margin": null,
            "display": null,
            "left": null
          }
        },
        "b98ccf17fac847358c33614ee1fe84da": {
          "model_module": "@jupyter-widgets/controls",
          "model_name": "DescriptionStyleModel",
          "state": {
            "_view_name": "StyleView",
            "_model_name": "DescriptionStyleModel",
            "description_width": "",
            "_view_module": "@jupyter-widgets/base",
            "_model_module_version": "1.5.0",
            "_view_count": null,
            "_view_module_version": "1.2.0",
            "_model_module": "@jupyter-widgets/controls"
          }
        },
        "42ffeb39920644c8aa3b3413b89098e8": {
          "model_module": "@jupyter-widgets/base",
          "model_name": "LayoutModel",
          "state": {
            "_view_name": "LayoutView",
            "grid_template_rows": null,
            "right": null,
            "justify_content": null,
            "_view_module": "@jupyter-widgets/base",
            "overflow": null,
            "_model_module_version": "1.2.0",
            "_view_count": null,
            "flex_flow": null,
            "width": null,
            "min_width": null,
            "border": null,
            "align_items": null,
            "bottom": null,
            "_model_module": "@jupyter-widgets/base",
            "top": null,
            "grid_column": null,
            "overflow_y": null,
            "overflow_x": null,
            "grid_auto_flow": null,
            "grid_area": null,
            "grid_template_columns": null,
            "flex": null,
            "_model_name": "LayoutModel",
            "justify_items": null,
            "grid_row": null,
            "max_height": null,
            "align_content": null,
            "visibility": null,
            "align_self": null,
            "height": null,
            "min_height": null,
            "padding": null,
            "grid_auto_rows": null,
            "grid_gap": null,
            "max_width": null,
            "order": null,
            "_view_module_version": "1.2.0",
            "grid_template_areas": null,
            "object_position": null,
            "object_fit": null,
            "grid_auto_columns": null,
            "margin": null,
            "display": null,
            "left": null
          }
        }
      }
    },
    "accelerator": "GPU"
  },
  "cells": [
    {
      "cell_type": "code",
      "metadata": {
        "id": "yj21IyLWKoxk"
      },
      "source": [
        "# Licensing Information:  You are free to use or extend this project for\n",
        "# educational purposes provided that (1) you do not distribute or publish\n",
        "# solutions, (2) you retain this notice, and (3) you provide clear\n",
        "# attribution to The Georgia Institute of Technology, including a link to https://aritter.github.io/CS-7650/\n",
        "\n",
        "# Attribution Information: This assignment was developed at The Georgia Institute of Technology\n",
        "# by Alan Ritter (alan.ritter@cc.gatech.edu)"
      ],
      "execution_count": 81,
      "outputs": []
    },
    {
      "cell_type": "markdown",
      "metadata": {
        "id": "KuoWLCBPu5-W"
      },
      "source": [
        "#Project \\#1: Text Classification\n",
        "\n",
        "In this assignment, you will implement the perceptron algorithm, and a simple, but competitive neural bag-of-words model, as described in [this paper](https://www.aclweb.org/anthology/P15-1162.pdf) for text classification.  You will train your models on a (provided) dataset of positive and negative movie reviews and report accuracy on a test set.\n",
        "\n",
        "In this notebook, we provide you with starter code to read in the data and evaluate the performance of your models.  After completing the instructions below, please follow the instructions at the end to submit your notebook and other files to Gradescope.\n",
        "\n",
        "Make sure to make a copy of this notebook, so your changes are saved."
      ]
    },
    {
      "cell_type": "markdown",
      "metadata": {
        "id": "J8ZlxhBdyX8j"
      },
      "source": [
        "#Download the dataset\n",
        "\n",
        "First you will need to download the IMDB dataset - to do this, simply run the cell below.  We have prepared a small version of the ACL IMDB dataset for you to use to help make your experiments faster.  The full dataset is available [here](https://ai.stanford.edu/~amaas/data/sentiment/), in case you are interested, but there is no need to use this for the assignment.\n",
        "\n",
        "Note that files downloaded in Colab are only saved temporariliy - if your session reconnects you will need to re-download the files.  In case you need persistent storage, you can mount your Google drive folder like so:\n",
        "\n",
        "```\n",
        "from google.colab import drive\n",
        "drive.mount('/content/drive')\n",
        "```\n",
        "\n",
        "You can also open a command line prompt by clicking on the shell icon on the left hand side of the page, and upload/download files from your local machine by clicking on the file icon."
      ]
    },
    {
      "cell_type": "code",
      "metadata": {
        "colab": {
          "base_uri": "https://localhost:8080/"
        },
        "id": "L9r9cSojEVnB",
        "outputId": "1f81e803-da9e-4221-edf1-e3a69d0d7780"
      },
      "source": [
        "#Download the data\n",
        "\n",
        "\n",
        "!wget https://github.com/aritter/5525_sentiment/raw/master/aclImdb_small.tgz\n",
        "!tar xvzf aclImdb_small.tgz > /dev/null"
      ],
      "execution_count": 82,
      "outputs": [
        {
          "output_type": "stream",
          "text": [
            "--2021-02-08 20:30:29--  https://github.com/aritter/5525_sentiment/raw/master/aclImdb_small.tgz\n",
            "Resolving github.com (github.com)... 140.82.121.4\n",
            "Connecting to github.com (github.com)|140.82.121.4|:443... connected.\n",
            "HTTP request sent, awaiting response... 302 Found\n",
            "Location: https://raw.githubusercontent.com/aritter/5525_sentiment/master/aclImdb_small.tgz [following]\n",
            "--2021-02-08 20:30:30--  https://raw.githubusercontent.com/aritter/5525_sentiment/master/aclImdb_small.tgz\n",
            "Resolving raw.githubusercontent.com (raw.githubusercontent.com)... 151.101.0.133, 151.101.64.133, 151.101.128.133, ...\n",
            "Connecting to raw.githubusercontent.com (raw.githubusercontent.com)|151.101.0.133|:443... connected.\n",
            "HTTP request sent, awaiting response... 200 OK\n",
            "Length: 9635749 (9.2M) [application/octet-stream]\n",
            "Saving to: ‘aclImdb_small.tgz.2’\n",
            "\n",
            "aclImdb_small.tgz.2 100%[===================>]   9.19M  51.9MB/s    in 0.2s    \n",
            "\n",
            "2021-02-08 20:30:42 (51.9 MB/s) - ‘aclImdb_small.tgz.2’ saved [9635749/9635749]\n",
            "\n"
          ],
          "name": "stdout"
        }
      ]
    },
    {
      "cell_type": "markdown",
      "metadata": {
        "id": "0HHaUKE61udd"
      },
      "source": [
        "# Converting text to numbers\n",
        "\n",
        "Below is some code we are providing you to read in the IMDB dataset, perform tokenization (using `nltk`), and convert words into indices.  Please don't modify this code in your submitted version.  We will provide example usage below."
      ]
    },
    {
      "cell_type": "code",
      "metadata": {
        "colab": {
          "base_uri": "https://localhost:8080/"
        },
        "id": "wdnNfu4uH1yj",
        "outputId": "61be9738-bfdd-4f1c-802d-19ce3c0c1018"
      },
      "source": [
        "import os\n",
        "import sys\n",
        "\n",
        "import nltk\n",
        "from nltk import word_tokenize\n",
        "nltk.download('punkt')\n",
        "import torch\n",
        "\n",
        "#Sparse matrix implementation\n",
        "from scipy.sparse import csr_matrix\n",
        "import numpy as np\n",
        "from collections import Counter\n",
        "\n",
        "np.random.seed(1)\n",
        "\n",
        "class Vocab:\n",
        "    def __init__(self, vocabFile=None):\n",
        "        self.locked = False\n",
        "        self.nextId = 0\n",
        "        self.word2id = {}\n",
        "        self.id2word = {}\n",
        "        if vocabFile:\n",
        "            for line in open(vocabFile):\n",
        "                line = line.rstrip('\\n')\n",
        "                (word, wid) = line.split('\\t')\n",
        "                self.word2id[word] = int(wid)\n",
        "                self.id2word[wid] = word\n",
        "                self.nextId = max(self.nextId, int(wid) + 1)\n",
        "\n",
        "    def GetID(self, word):\n",
        "        if not word in self.word2id:\n",
        "            if self.locked:\n",
        "                return -1        #UNK token is -1.\n",
        "            else:\n",
        "                self.word2id[word] = self.nextId\n",
        "                self.id2word[self.word2id[word]] = word\n",
        "                self.nextId += 1\n",
        "        return self.word2id[word]\n",
        "\n",
        "    def HasWord(self, word):\n",
        "        return self.word2id.has_key(word)\n",
        "\n",
        "    def HasId(self, wid):\n",
        "        return self.id2word.has_key(wid)\n",
        "\n",
        "    def GetWord(self, wid):\n",
        "        return self.id2word[wid]\n",
        "\n",
        "    def SaveVocab(self, vocabFile):\n",
        "        fOut = open(vocabFile, 'w')\n",
        "        for word in self.word2id.keys():\n",
        "            fOut.write(\"%s\\t%s\\n\" % (word, self.word2id[word]))\n",
        "\n",
        "    def GetVocabSize(self):\n",
        "        #return self.nextId-1\n",
        "        return self.nextId\n",
        "\n",
        "    def GetWords(self):\n",
        "        return self.word2id.keys()\n",
        "\n",
        "    def Lock(self):\n",
        "        self.locked = True\n",
        "\n",
        "class IMDBdata:\n",
        "    def __init__(self, directory, vocab=None):\n",
        "        \"\"\" Reads in data into sparse matrix format \"\"\"\n",
        "        pFiles = os.listdir(\"%s/pos\" % directory)\n",
        "        nFiles = os.listdir(\"%s/neg\" % directory)\n",
        "\n",
        "        if not vocab:\n",
        "            self.vocab = Vocab()\n",
        "        else:\n",
        "            self.vocab = vocab\n",
        "\n",
        "        #For csr_matrix (see http://docs.scipy.org/doc/scipy-0.15.1/reference/generated/scipy.sparse.csr_matrix.html#scipy.sparse.csr_matrix)\n",
        "        X_values = []\n",
        "        X_row_indices = []\n",
        "        X_col_indices = []\n",
        "        Y = []\n",
        "\n",
        "        XwordList = []\n",
        "        XfileList = []\n",
        "\n",
        "        #Read positive files\n",
        "        for i in range(len(pFiles)):\n",
        "            f = pFiles[i]\n",
        "            for line in open(\"%s/pos/%s\" % (directory, f)):\n",
        "                wordList   = [self.vocab.GetID(w.lower()) for w in word_tokenize(line) if self.vocab.GetID(w.lower()) >= 0]\n",
        "                XwordList.append(wordList)\n",
        "                XfileList.append(f)\n",
        "                wordCounts = Counter(wordList)\n",
        "                for (wordId, count) in wordCounts.items():\n",
        "                    if wordId >= 0:\n",
        "                        X_row_indices.append(i)\n",
        "                        X_col_indices.append(wordId)\n",
        "                        X_values.append(count)\n",
        "            Y.append(+1.0)\n",
        "\n",
        "        #Read negative files\n",
        "        for i in range(len(nFiles)):\n",
        "            f = nFiles[i]\n",
        "            for line in open(\"%s/neg/%s\" % (directory, f)):\n",
        "                wordList   = [self.vocab.GetID(w.lower()) for w in word_tokenize(line) if self.vocab.GetID(w.lower()) >= 0]\n",
        "                XwordList.append(wordList)\n",
        "                XfileList.append(f)\n",
        "                wordCounts = Counter(wordList)\n",
        "                for (wordId, count) in wordCounts.items():\n",
        "                    if wordId >= 0:\n",
        "                        X_row_indices.append(len(pFiles)+i)\n",
        "                        X_col_indices.append(wordId)\n",
        "                        X_values.append(count)\n",
        "            Y.append(-1.0)\n",
        "            \n",
        "        self.vocab.Lock()\n",
        "\n",
        "        #Create a sparse matrix in csr format\n",
        "        self.X = csr_matrix((X_values, (X_row_indices, X_col_indices)), shape=(max(X_row_indices)+1, self.vocab.GetVocabSize()))\n",
        "        self.Y = np.asarray(Y)\n",
        "\n",
        "        #Randomly shuffle\n",
        "        index = np.arange(self.X.shape[0])\n",
        "        np.random.shuffle(index)\n",
        "        self.X = self.X[index,:]\n",
        "        self.XwordList = [torch.LongTensor(XwordList[i]) for i in index]  #Two different sparse formats, csr and lists of IDs (XwordList).\n",
        "        self.XfileList = [XfileList[i] for i in index]\n",
        "        self.Y = self.Y[index]"
      ],
      "execution_count": 83,
      "outputs": [
        {
          "output_type": "stream",
          "text": [
            "[nltk_data] Downloading package punkt to /root/nltk_data...\n",
            "[nltk_data]   Package punkt is already up-to-date!\n"
          ],
          "name": "stdout"
        }
      ]
    },
    {
      "cell_type": "markdown",
      "metadata": {
        "id": "Cn1gvbW92h1V"
      },
      "source": [
        "The code below reads the train,dev and test data into memory.  This will take a minute or so."
      ]
    },
    {
      "cell_type": "code",
      "metadata": {
        "id": "WGp6dMNZEGoP"
      },
      "source": [
        "train = IMDBdata(\"aclImdb_small/train\")\n",
        "train.vocab.Lock()\n",
        "\n",
        "dev  = IMDBdata(\"aclImdb_small/dev\", vocab=train.vocab)\n",
        "test  = IMDBdata(\"aclImdb_small/test\", vocab=train.vocab)"
      ],
      "execution_count": 84,
      "outputs": []
    },
    {
      "cell_type": "markdown",
      "metadata": {
        "id": "R1pnYB3I22QJ"
      },
      "source": [
        "# Exploring the data\n",
        "\n",
        "Below are a few examples to help you get familiar with how the data is represented.  $X \\in \\mathbb{R}^{M \\times N}$ contains the design matrix and $Y \\in \\{+1,-1\\}^N$ contains the labels.  Because there are a large number of features in this representation ($X$ contains one column representing each unique word in the dataset), we are using a sparse matrix representation (Numpy's [csr_sparse](http://docs.scipy.org/doc/scipy-0.15.1/reference/generated/scipy.sparse.csr_matrix.html#scipy.sparse.csr_matrix)).  PyTorch doesn't have great support for sparse matrices...\n"
      ]
    },
    {
      "cell_type": "code",
      "metadata": {
        "colab": {
          "base_uri": "https://localhost:8080/"
        },
        "id": "idqR_DvV3USp",
        "outputId": "8c318370-e6fb-4ae2-9aaa-78af3a9f4e17"
      },
      "source": [
        "# X contains the design matrix representing the training data.\n",
        "print(f\"Train.X has {train.X.shape[0]} rows and {train.X.shape[1]} columns.\")"
      ],
      "execution_count": 85,
      "outputs": [
        {
          "output_type": "stream",
          "text": [
            "Train.X has 7222 rows and 58162 columns.\n"
          ],
          "name": "stdout"
        }
      ]
    },
    {
      "cell_type": "code",
      "metadata": {
        "colab": {
          "base_uri": "https://localhost:8080/"
        },
        "id": "jY_jAvEl8O4V",
        "outputId": "b7dfc5f9-de66-404d-8756-46dcf3700e9f"
      },
      "source": [
        "# Labels\n",
        "train.Y"
      ],
      "execution_count": 86,
      "outputs": [
        {
          "output_type": "execute_result",
          "data": {
            "text/plain": [
              "array([-1., -1., -1., ..., -1.,  1., -1.])"
            ]
          },
          "metadata": {
            "tags": []
          },
          "execution_count": 86
        }
      ]
    },
    {
      "cell_type": "code",
      "metadata": {
        "colab": {
          "base_uri": "https://localhost:8080/"
        },
        "id": "g5w0c8WA8ixA",
        "outputId": "995d0a5c-f50c-471f-b025-80ab5b4340e6"
      },
      "source": [
        "# Let's count the frequency of every word appearing in the documents with negative sentiment:\n",
        "word_counts = np.array(train.X[train.Y == -1,:].sum(axis=0)).flatten()\n",
        "word_counts"
      ],
      "execution_count": 87,
      "outputs": [
        {
          "output_type": "execute_result",
          "data": {
            "text/plain": [
              "array([13102,   408,    49, ...,     1,     1,     1], dtype=int64)"
            ]
          },
          "metadata": {
            "tags": []
          },
          "execution_count": 87
        }
      ]
    },
    {
      "cell_type": "code",
      "metadata": {
        "colab": {
          "base_uri": "https://localhost:8080/"
        },
        "id": "sE67XmOn85lC",
        "outputId": "2960d260-17dc-4932-eb5f-0a45269e1426"
      },
      "source": [
        "# Now, let's sort the words by frequency:\n",
        "sorted_words = list(reversed(np.argsort(word_counts)))\n",
        "sorted_words[0:10]"
      ],
      "execution_count": 88,
      "outputs": [
        {
          "output_type": "execute_result",
          "data": {
            "text/plain": [
              "[12, 22, 15, 19, 38, 73, 31, 457, 454, 456]"
            ]
          },
          "metadata": {
            "tags": []
          },
          "execution_count": 88
        }
      ]
    },
    {
      "cell_type": "code",
      "metadata": {
        "colab": {
          "base_uri": "https://localhost:8080/"
        },
        "id": "d-YA01vB9IPw",
        "outputId": "129a808d-fabf-4353-cbea-48cc0ac1d371"
      },
      "source": [
        "# What is the index of the most frequent word?\n",
        "sorted_words[0]"
      ],
      "execution_count": 89,
      "outputs": [
        {
          "output_type": "execute_result",
          "data": {
            "text/plain": [
              "12"
            ]
          },
          "metadata": {
            "tags": []
          },
          "execution_count": 89
        }
      ]
    },
    {
      "cell_type": "code",
      "metadata": {
        "colab": {
          "base_uri": "https://localhost:8080/",
          "height": 35
        },
        "id": "QWIT_E1N9P-X",
        "outputId": "42780f69-e26f-4489-9678-89a657f93811"
      },
      "source": [
        "# Let's see what word that is:\n",
        "train.vocab.GetWord(sorted_words[0])"
      ],
      "execution_count": 90,
      "outputs": [
        {
          "output_type": "execute_result",
          "data": {
            "application/vnd.google.colaboratory.intrinsic+json": {
              "type": "string"
            },
            "text/plain": [
              "'the'"
            ]
          },
          "metadata": {
            "tags": []
          },
          "execution_count": 90
        }
      ]
    },
    {
      "cell_type": "code",
      "metadata": {
        "colab": {
          "base_uri": "https://localhost:8080/"
        },
        "id": "aHTtRxDR9THA",
        "outputId": "1167d660-d4a2-43ab-914e-c8419f39b62e"
      },
      "source": [
        "# What are the 10 most frequent words?\n",
        "[train.vocab.GetWord(sorted_words[x]) for x in range(10)]"
      ],
      "execution_count": 91,
      "outputs": [
        {
          "output_type": "execute_result",
          "data": {
            "text/plain": [
              "['the', ',', '.', 'a', 'and', 'to', 'of', '>', '<', '/']"
            ]
          },
          "metadata": {
            "tags": []
          },
          "execution_count": 91
        }
      ]
    },
    {
      "cell_type": "markdown",
      "metadata": {
        "id": "wtY58U5Y9rNT"
      },
      "source": [
        "# Now it's time to write some code!\n",
        "\n",
        "# Basic Perceptron (10 points)\n",
        "\n",
        "Implement the perceptron classification algorithm (fill in the missing code marked with `TODO:` below).\n",
        "The only hyperparameter to tune is the number of iterations."
      ]
    },
    {
      "cell_type": "code",
      "metadata": {
        "id": "9_ZlositHwng",
        "colab": {
          "base_uri": "https://localhost:8080/"
        },
        "outputId": "e575c6df-5b76-420a-e2c9-555a68961bfa"
      },
      "source": [
        "class Eval:\n",
        "    def __init__(self, pred, gold):\n",
        "        self.pred = pred\n",
        "        self.gold = gold\n",
        "        \n",
        "    def Accuracy(self):\n",
        "        return np.sum(np.equal(self.pred, self.gold)) / float(len(self.gold))\n",
        "\n",
        "class Perceptron:\n",
        "    def __init__(self, X, Y, N_ITERATIONS):\n",
        "        #TODO: Initalize parameters\n",
        "        self.N_ITERATIONS = N_ITERATIONS\n",
        "        self.X = X\n",
        "        self.Y = Y\n",
        "        self.weights = np.zeros(shape=(1, X.shape[1]))\n",
        "        self.weights_avg = np.zeros(shape=(1, X.shape[1]))\n",
        "        self.c = 1\n",
        "        #print(X.shape)\n",
        "        #print(Y.shape)\n",
        "        self.Train(X,Y)\n",
        "\n",
        "\n",
        "    def ComputeAverageParameters(self):\n",
        "        #TODO: Compute average parameters (do this part last)\n",
        "        #return\n",
        "        self.weights = self.weights - self.weights_avg / self.c\n",
        "\n",
        "    def Train(self, X, Y):\n",
        "        #TODO: Estimate perceptron parameters\n",
        "\n",
        "        x_arr = X.toarray()\n",
        "       # print(x_arr.shape[0])\n",
        "        for _ in range(self.N_ITERATIONS):\n",
        "          #print(_)\n",
        "          for i in range(x_arr.shape[0]):\n",
        "           # x = np.insert(x_arr[i],0,1)\n",
        "            y_pred = np.dot(self.weights, x_arr[i])#self.Predict(x_arr[i])\n",
        "            #print(y_pred)\n",
        "            target = 1.0 if (y_pred > 0) else -1.0\n",
        "            delta = Y[i] - target\n",
        "            if delta:\n",
        "              self.weights += (delta * x_arr[i])\n",
        "              self.weights_avg += self.c *(delta * x_arr[i])\n",
        "            self.c +=1\n",
        "         \n",
        "        #print(\"Train loop terminates\")\n",
        "        return\n",
        "\n",
        "\n",
        "\n",
        "    def Predict(self, X):\n",
        "        #TODO: Implement perceptron classification\n",
        "\n",
        "        x = (X.transpose())\n",
        "        sparce_matrix = sum([x[i] * self.weights[0][i] for i in range(x.shape[0])])\n",
        "        arr = sparce_matrix.toarray()\n",
        "        # print(\"arr and arr shape\")\n",
        "        # print(arr)\n",
        "        # print(arr.shape)\n",
        "        final_pred = [1 if x > 0 else -1 for x in arr[0]]\n",
        "        return final_pred\n",
        "        #return [1 for i in range(X.shape[0])]\n",
        "\n",
        "    def SavePredictions(self, data, outFile):\n",
        "        Y_pred = self.Predict(data.X)\n",
        "        fOut = open(outFile, 'w')\n",
        "        for i in range(len(data.XfileList)):\n",
        "          fOut.write(f\"{data.XfileList[i]}\\t{Y_pred[i]}\\n\")\n",
        "\n",
        "    def Eval(self, X_test, Y_test):\n",
        "        # print(\"Y_test type and ytest\")\n",
        "        # print(type(Y_test))\n",
        "        # print(Y_test)\n",
        "        # print(\"call predic method on test data\")\n",
        "        Y_pred = self.Predict(X_test)\n",
        "        # print(\"Y_pred type and Y_pred\")\n",
        "        # print(type(Y_pred))\n",
        "        # print(Y_pred)\n",
        "        ev = Eval(Y_pred, Y_test)\n",
        "        # print(ev)\n",
        "        return ev.Accuracy()\n",
        "    \n",
        "ptron = Perceptron(train.X, train.Y, 10)\n",
        "ptron.ComputeAverageParameters()\n",
        "print(ptron.Eval(test.X, test.Y))\n",
        "ptron.SavePredictions(test, 'test_pred_perceptron.txt')\n",
        "\n",
        "print(train.X.shape)\n",
        "print(test.X.shape)\n",
        "#TODO: Print the 20 most positive and 20 most negative words\n",
        "\n"
      ],
      "execution_count": 92,
      "outputs": [
        {
          "output_type": "stream",
          "text": [
            "0.8512877319302132\n",
            "(7222, 58162)\n",
            "(7222, 58162)\n"
          ],
          "name": "stdout"
        }
      ]
    },
    {
      "cell_type": "code",
      "metadata": {
        "colab": {
          "base_uri": "https://localhost:8080/"
        },
        "id": "4d-phWz6Aw34",
        "outputId": "1f4a24cb-46c1-44b1-9da1-a982db8a51b9"
      },
      "source": [
        "type(train.XwordList[0])\r\n",
        "train.XwordList[0]"
      ],
      "execution_count": 93,
      "outputs": [
        {
          "output_type": "execute_result",
          "data": {
            "text/plain": [
              "tensor([40820, 40821,     6,     8,    12,  2884,  1189,  3552,    19,  1664,\n",
              "         3021,    54,   912,   190,  1072,  1900,   289,    73,    12,  1664,\n",
              "          645,   252,     6,  4409,    19,  1664,  2313,    31, 38527,    38,\n",
              "        14842,  8304,    78,    19,   108,  2313,    31, 38527,    38, 14842,\n",
              "         8304,    15,   136,    22,   128,   283,  3021,    22,    75,    61,\n",
              "           19, 10329,   454,   455,   456,   457,   454,   455,   456,   457,\n",
              "         5829,    22,    75,    61,    97, 40820, 40821,    26,    27,  3377,\n",
              "           29,   310,    22,   136,   141,    18,  1739,    12,   108,    73,\n",
              "           59,    70,   235,   855,    15,  1130,    75,   447,    51,    75,\n",
              "           61,  1645,    22,   101, 40822,   103,  7199,   402,   256,  3940,\n",
              "           23,  4914,    38,  1580,    19,  7993,    73,  4082, 18492,   454,\n",
              "          455,   456,   457,   454,   455,   456,   457,   190,   277,  1837,\n",
              "           22, 40822,    17,    19,  2036,    11,    12,  7568,  7569,    22,\n",
              "          128,     8,    85,    19, 24435,  1407,   374,   975,    15, 40821,\n",
              "          953,    73,   288,    54, 40823,    17, 40824, 22163,    73,   345,\n",
              "        10071,  1189,    12,   293, 14842,    22,    12, 10327,    22,    38,\n",
              "           12,   293,  4408,    12, 10327,    15,   168,  3260,     9,    19,\n",
              "          108,    54,  2054,   398, 12252,    31, 40825,  1130,   822,   909,\n",
              "         2911,    38,  2153,    15,   307,    22,   157,  3841,   141,   811,\n",
              "          143,    75,   953,    73,    59,  1332,  9119,    15,   648,  2285,\n",
              "          663,    12,   114, 40826,   262,    22,    38,   167,  1322,  2911,\n",
              "           23,  2110,    85,  2633,    38,   628, 18658,    15,  1630,  2285,\n",
              "        40827,  1005,   118,   508,  6487,   454,   455,   456,   457,   454,\n",
              "          455,   456,   457,    88,    12,  5668,  1627,  7199,  1148,    22,\n",
              "        40822,  3651,  1580,    19,  7670,    73,   341,    15,   307,    16,\n",
              "           17,    19,   855,   355,   450,    38,   855,   353,  5808,   107,\n",
              "           22,   143,   508,  1174,  2975,    31, 29539,    31,  1144,   781,\n",
              "         5990,    38,  4611,   785,   628,   214,   351,    12,  1938,   179,\n",
              "           69,   953,    73,    59,   283, 10534,   454,   455,   456,   457,\n",
              "          454,   455,   456,   457,   168,   285,   140,    51,  2953,   128,\n",
              "           19,   769,   108,    22,   143,    75,    61,   585,   117,   349,\n",
              "         8304,   179,    62,    54,  2219,   351,   535,   107,   116,  3142,\n",
              "           75,   917,  5232,   128,   180,   123,    15,    16,    27,  3106,\n",
              "         2554,    38,  3106,   995,    22,   143,   142,  1272, 27916,  2204,\n",
              "            9,  2852,    38,   364,  1486,   359,    38,  8304,    54,    17,\n",
              "        14842,   585,   179,    12,  8363,    31,    75, 39757])"
            ]
          },
          "metadata": {
            "tags": []
          },
          "execution_count": 93
        }
      ]
    },
    {
      "cell_type": "code",
      "metadata": {
        "id": "G5SzVVJF3-Nj",
        "colab": {
          "base_uri": "https://localhost:8080/"
        },
        "outputId": "551bbc5b-286f-42d3-a4b3-92be3c4385d4"
      },
      "source": [
        "from scipy.sparse import csr_matrix\r\n",
        "from operator import itemgetter\r\n",
        "\r\n",
        "\r\n",
        "#for all vectors in vocab dot product with ptron.weights, create list of scores\r\n",
        "#scores = [np.dot(train.X[i], ptron.weights) for i in range(7222) ]\r\n",
        "#scores = np.dot(train.X, ptron.weights.T ) #7222X1\r\n",
        "\r\n",
        "# type(train.X) sparse matrix\r\n",
        "# type(ptron.weights) np array\r\n",
        "sparse_weights = csr_matrix(ptron.weights)\r\n",
        "scores_sparce = csr_matrix.dot(train.X, sparse_weights.T)\r\n",
        "# train.XwordList[0].tolist()\r\n",
        "#print(train.X.toarray())\r\n",
        "flat_scores = scores_sparce.toarray().flatten()\r\n",
        "\r\n",
        "\r\n",
        "#sort lit of scores from highest to lowest, sort copy of train.X vector the same way\r\n",
        "#largest_idx = \r\n",
        "\r\n",
        "\r\n",
        "# # use sorted copy of train.X to retrieve word_id of most positive words.\r\n",
        "#highest_score_wid = [train.X[i] for i in largest_idx]\r\n",
        "\r\n",
        "# lowest_score_wid = [train.X.toarray()[i] for i in smallest_idx]\r\n",
        "# #repeat all steps for most negative\r\n",
        "\r\n",
        "# pos_words = [train.vocab.GetWord(x) for x in highest_score_wid]\r\n",
        "# neg_words = [train.vocab.GetWord(x) for x in lowest_score_wid]\r\n",
        "# print(pos_words)\r\n",
        "# print(neg_words)\r\n",
        "flat_scores"
      ],
      "execution_count": 94,
      "outputs": [
        {
          "output_type": "execute_result",
          "data": {
            "text/plain": [
              "array([-1803.03313441, -1253.9478545 , -1224.05724097, ...,\n",
              "       -3445.1236344 ,   677.56561111,  -573.25326429])"
            ]
          },
          "metadata": {
            "tags": []
          },
          "execution_count": 94
        }
      ]
    },
    {
      "cell_type": "code",
      "metadata": {
        "colab": {
          "base_uri": "https://localhost:8080/"
        },
        "id": "WLYFTQLC-Y-_",
        "outputId": "191a1c0f-1502-4a74-933c-dac868e1a4ac"
      },
      "source": [
        "large_idx = flat_scores.argsort()[-20:][::-1]\r\n",
        "small_idx = flat_scores.argsort()[:20][::1]\r\n",
        "len(small_idx)"
      ],
      "execution_count": 95,
      "outputs": [
        {
          "output_type": "execute_result",
          "data": {
            "text/plain": [
              "20"
            ]
          },
          "metadata": {
            "tags": []
          },
          "execution_count": 95
        }
      ]
    },
    {
      "cell_type": "code",
      "metadata": {
        "id": "_DM8cjRo_Q_A"
      },
      "source": [
        "# highest_score_wid = [train.X[i] for i in large_idx]\r\n",
        "# lowest_score_wid = [train.X[i] for i in small_idx]\r\n"
      ],
      "execution_count": 96,
      "outputs": []
    },
    {
      "cell_type": "code",
      "metadata": {
        "id": "qYt-gQ_q_o7z"
      },
      "source": [
        "# highest_score_wid[0].toarray()"
      ],
      "execution_count": 97,
      "outputs": []
    },
    {
      "cell_type": "code",
      "metadata": {
        "colab": {
          "base_uri": "https://localhost:8080/"
        },
        "id": "ibhm9KYU_gT3",
        "outputId": "063b831f-3c03-42a9-a263-92fe29d2fed2"
      },
      "source": [
        "\r\n",
        "pos_words = [train.vocab.GetWord(x) for x in large_idx]\r\n",
        "neg_words = [train.vocab.GetWord(x) for x in small_idx]\r\n",
        "neg_words"
      ],
      "execution_count": 98,
      "outputs": [
        {
          "output_type": "execute_result",
          "data": {
            "text/plain": [
              "['relatively',\n",
              " 'glory',\n",
              " 'en',\n",
              " 'left',\n",
              " '1977',\n",
              " 'ready',\n",
              " 'partnership',\n",
              " 'determine',\n",
              " 'housewives',\n",
              " 'gladly',\n",
              " 'understand',\n",
              " 'liners',\n",
              " 'batman',\n",
              " 'ceremonies',\n",
              " 'donald',\n",
              " 'sampson',\n",
              " 'studio',\n",
              " 'han',\n",
              " 'filmmaker',\n",
              " 'keys']"
            ]
          },
          "metadata": {
            "tags": []
          },
          "execution_count": 98
        }
      ]
    },
    {
      "cell_type": "code",
      "metadata": {
        "colab": {
          "base_uri": "https://localhost:8080/"
        },
        "id": "qyN81N7QGO78",
        "outputId": "39cb3858-b126-412d-a85c-f56d3c0f4558"
      },
      "source": [
        "pos_words"
      ],
      "execution_count": 99,
      "outputs": [
        {
          "output_type": "execute_result",
          "data": {
            "text/plain": [
              "['line',\n",
              " 'distraught',\n",
              " 'special',\n",
              " 'elder',\n",
              " '13',\n",
              " 'similarly',\n",
              " 'top',\n",
              " 'exquisite',\n",
              " 'supported',\n",
              " 'outlandish',\n",
              " 'orson',\n",
              " 'guessing',\n",
              " 'halfway',\n",
              " 'yikes',\n",
              " 'their',\n",
              " 'erupt',\n",
              " 'hand',\n",
              " 'rope',\n",
              " 'perry',\n",
              " 'dilapidated']"
            ]
          },
          "metadata": {
            "tags": []
          },
          "execution_count": 99
        }
      ]
    },
    {
      "cell_type": "markdown",
      "metadata": {
        "id": "3rhcI8_MsfPF"
      },
      "source": [
        "# Parameter Averaging (5 points)\n",
        "\n",
        "Once your basic perceptron implementation is working, modify code to implement parameter averaging.  Instead of using parameters from the final iteration, $w_n$, to classify test examples, \n",
        "use the average of the parameters from every iteration, $\\frac{1}{N}\\sum_{i=1}^N w_i$.  A nice trick for doing this efficiently is described in section 2.1.1 of [Hal Daume's thesis](http://www.umiacs.umd.edu/~hal/docs/daume06thesis.pdf).  When you are done, save a copy of your predictions on the test set to turn in at the end (click on the file icon on the left side of the notebook).\n",
        "\n",
        "# Inspect Feature Weights (5 points)\n",
        "\n",
        "Modify the code block above to print out the 20 most positive and 20 most negative words in the vocabulary sorted by their learned weights according to your model.  This will require a bit of thought how to do because the words in each document have been converted to IDs (see examples above)."
      ]
    },
    {
      "cell_type": "code",
      "metadata": {
        "id": "CM4vxxWN_fYV"
      },
      "source": [
        ""
      ],
      "execution_count": 99,
      "outputs": []
    },
    {
      "cell_type": "markdown",
      "metadata": {
        "id": "we_vLQ5YRkJv"
      },
      "source": [
        "# Evaluate on the test set\n",
        "\n",
        "Once you are happy with your performance on the dev set, run the cell below to evaluate your performance on the test set.  Make sure to download the predictions of your model in `test_pred_perceptron.txt`."
      ]
    },
    {
      "cell_type": "code",
      "metadata": {
        "colab": {
          "base_uri": "https://localhost:8080/"
        },
        "id": "GY9wVRHPRkJ8",
        "outputId": "f9b0de06-fd1b-4df9-80c0-fe6e7a562868"
      },
      "source": [
        "print(ptron.Eval(dev.X, dev.Y))\n",
        "\n",
        "ptron.SavePredictions(test, 'test_pred_perceptron.txt')"
      ],
      "execution_count": 100,
      "outputs": [
        {
          "output_type": "stream",
          "text": [
            "0.8460846084608461\n"
          ],
          "name": "stdout"
        }
      ]
    },
    {
      "cell_type": "markdown",
      "metadata": {
        "id": "L2dykgBhuVvr"
      },
      "source": [
        "# PyTorch Introduction\n",
        "\n",
        "Take a look at the code below, which provides an example of how a simple neural network is capable of learning the XOR function (note that the perceptron cannot do this).  Refer to the PyTorch documentation [here](https://pytorch.org/docs/stable/index.html) for more information."
      ]
    },
    {
      "cell_type": "code",
      "metadata": {
        "colab": {
          "base_uri": "https://localhost:8080/"
        },
        "id": "18KP4ktWIQfy",
        "outputId": "c3de6872-d625-4960-9d50-dfe4c8439d36"
      },
      "source": [
        "import torch\n",
        "import torch.nn as nn\n",
        "from torch import optim\n",
        "import random\n",
        "import numpy as np\n",
        "\n",
        "#Define the computation graph; one layer hidden network\n",
        "class FFNN(nn.Module):\n",
        "    def __init__(self, dim_i, dim_h, dim_o):\n",
        "        super(FFNN, self).__init__()\n",
        "        self.V = nn.Linear(dim_i, dim_h)\n",
        "        self.g = nn.Tanh()\n",
        "        self.W = nn.Linear(dim_h, dim_o)\n",
        "        self.logSoftmax = nn.LogSoftmax(dim=0)\n",
        "\n",
        "    def forward(self, x):\n",
        "        return self.logSoftmax(self.W(self.g(self.V(x))))\n",
        "\n",
        "train_X = np.array([[0,0], [0,1], [1,0], [1,1]])\n",
        "train_Y = np.array([0,1,1,0])\n",
        "\n",
        "num_classes  = 2\n",
        "num_hidden   = 10\n",
        "num_features = 2\n",
        "\n",
        "ffnn = FFNN(num_features, num_hidden, num_classes)\n",
        "optimizer = optim.Adam(ffnn.parameters(), lr=0.1)\n",
        "\n",
        "for epoch in range(100):\n",
        "    total_loss = 0.0\n",
        "    #Randomly shuffle examples in each epoch\n",
        "    shuffled_i = list(range(0,len(train_Y)))\n",
        "    random.shuffle(shuffled_i)\n",
        "    for i in shuffled_i:\n",
        "        x        = torch.from_numpy(train_X[i]).float()\n",
        "        y_onehot = torch.zeros(num_classes)\n",
        "        y_onehot[train_Y[i]] = 1\n",
        "\n",
        "        ffnn.zero_grad()\n",
        "        logProbs = ffnn.forward(x)\n",
        "        loss = torch.neg(logProbs).dot(y_onehot)\n",
        "        total_loss += loss\n",
        "        \n",
        "        loss.backward()\n",
        "        optimizer.step()\n",
        "    if epoch % 10 == 0:    \n",
        "      print(\"loss on epoch %i: %f\" % (epoch, total_loss))\n",
        "\n",
        "#Evaluate on the training set:\n",
        "num_errors = 0\n",
        "for i in range(len(train_Y)):\n",
        "    x = torch.from_numpy(train_X[i]).float()\n",
        "    y = train_Y[i]\n",
        "    logProbs = ffnn.forward(x)\n",
        "    prediction = torch.argmax(logProbs)\n",
        "    if y != prediction:\n",
        "        num_errors += 1\n",
        "print(\"number of errors: %d\" % num_errors)"
      ],
      "execution_count": 101,
      "outputs": [
        {
          "output_type": "stream",
          "text": [
            "loss on epoch 0: 3.940274\n",
            "loss on epoch 10: 2.376710\n",
            "loss on epoch 20: 1.213042\n",
            "loss on epoch 30: 0.251226\n",
            "loss on epoch 40: 0.114335\n",
            "loss on epoch 50: 0.067142\n",
            "loss on epoch 60: 0.044789\n",
            "loss on epoch 70: 0.031554\n",
            "loss on epoch 80: 0.023493\n",
            "loss on epoch 90: 0.018145\n",
            "number of errors: 0\n"
          ],
          "name": "stdout"
        }
      ]
    },
    {
      "cell_type": "markdown",
      "metadata": {
        "id": "k4QDzv6OwlSO"
      },
      "source": [
        "# Neural Bag-of-Words (10 points)\n",
        "\n",
        "Your next task is to implement a neural bag-of-words baseline, NBOW-RAND, as described in [this paper](https://www.aclweb.org/anthology/P15-1162.pdf).  See section 2.1.  Note that the dataset we are using is a sample of the full IMDB dataset to make developing your solution easier, so your performance will be a bit lower than the numbers reported in the paper for the full dataset.\n",
        "\n",
        "# GPUs\n",
        "\n",
        "You probably want to use GPUs here to enable faster training with larger word embeddings and hidden layers (the paper listed above uses 300 dimensions).\n",
        "\n",
        "Colab provides free access to GPUs, which will be useful for rest of the assignment.  To access GPUs, select `Runtime` from the menu at the top of the page, and then choose `Change Runtime Type`; under the `Hardware Accelerator` dropdown select `GPU`.  Note that the free version of Colab does have quotas on how much GPU can be used - you won't need to use GPUs for the first part of the assignment (implementing the Perceptron algorithm).\n",
        "\n",
        "You can check to make sure a GPU is available using the code below:"
      ]
    },
    {
      "cell_type": "code",
      "metadata": {
        "colab": {
          "base_uri": "https://localhost:8080/"
        },
        "id": "TLOCwLE5HEq0",
        "outputId": "29348668-f5bc-4679-9220-527604b26a3c"
      },
      "source": [
        "gpu_info = !nvidia-smi\n",
        "gpu_info = '\\n'.join(gpu_info)\n",
        "if gpu_info.find('failed') >= 0:\n",
        "  print('Select the Runtime > \"Change runtime type\" menu to enable a GPU accelerator, ')\n",
        "  print('and then re-execute this cell.')\n",
        "else:\n",
        "  print(gpu_info)"
      ],
      "execution_count": 102,
      "outputs": [
        {
          "output_type": "stream",
          "text": [
            "Mon Feb  8 20:40:03 2021       \n",
            "+-----------------------------------------------------------------------------+\n",
            "| NVIDIA-SMI 460.39       Driver Version: 418.67       CUDA Version: 10.1     |\n",
            "|-------------------------------+----------------------+----------------------+\n",
            "| GPU  Name        Persistence-M| Bus-Id        Disp.A | Volatile Uncorr. ECC |\n",
            "| Fan  Temp  Perf  Pwr:Usage/Cap|         Memory-Usage | GPU-Util  Compute M. |\n",
            "|                               |                      |               MIG M. |\n",
            "|===============================+======================+======================|\n",
            "|   0  Tesla V100-SXM2...  Off  | 00000000:00:04.0 Off |                    0 |\n",
            "| N/A   34C    P0    36W / 300W |   2445MiB / 16130MiB |      0%      Default |\n",
            "|                               |                      |                 ERR! |\n",
            "+-------------------------------+----------------------+----------------------+\n",
            "                                                                               \n",
            "+-----------------------------------------------------------------------------+\n",
            "| Processes:                                                                  |\n",
            "|  GPU   GI   CI        PID   Type   Process name                  GPU Memory |\n",
            "|        ID   ID                                                   Usage      |\n",
            "|=============================================================================|\n",
            "|  No running processes found                                                 |\n",
            "+-----------------------------------------------------------------------------+\n"
          ],
          "name": "stdout"
        }
      ]
    },
    {
      "cell_type": "markdown",
      "metadata": {
        "id": "nCiewAPLG6lK"
      },
      "source": [
        "# Data format\n",
        "\n",
        "In addition to reading in the data in sparse matrix (Numpy CSR) format, which you used in your implementation of the perceptron algorithm, the data loading code above also reads it in another format in `train.XwordList`.  This contains a list of PyTorch arrays consisting of sequences of word IDs corresponding to the content of each document.  The the documents in `train.XwordList` are presented in the same order as the labels (`train.Y`).  For the next part of the assignment, you should work with the data in this new format, which is fairly standard for text data in neural networks.  See below for a few examples on how to access the data in this new format."
      ]
    },
    {
      "cell_type": "code",
      "metadata": {
        "colab": {
          "base_uri": "https://localhost:8080/"
        },
        "id": "ORUdEdld2ZLm",
        "outputId": "715d3561-cf9f-4972-ecea-90c55a237365"
      },
      "source": [
        "# Example of using XwordList\n",
        "\n",
        "print(\"Here is the first document:\")\n",
        "print(train.XwordList[0].tolist())\n",
        "\n",
        "print(\"After converting to IDs to words:\")\n",
        "print([train.vocab.GetWord(x) for x in train.XwordList[0].tolist()])\n",
        "\n",
        "print(\"Here is the label:\")\n",
        "print(train.Y[0])"
      ],
      "execution_count": 103,
      "outputs": [
        {
          "output_type": "stream",
          "text": [
            "Here is the first document:\n",
            "[40820, 40821, 6, 8, 12, 2884, 1189, 3552, 19, 1664, 3021, 54, 912, 190, 1072, 1900, 289, 73, 12, 1664, 645, 252, 6, 4409, 19, 1664, 2313, 31, 38527, 38, 14842, 8304, 78, 19, 108, 2313, 31, 38527, 38, 14842, 8304, 15, 136, 22, 128, 283, 3021, 22, 75, 61, 19, 10329, 454, 455, 456, 457, 454, 455, 456, 457, 5829, 22, 75, 61, 97, 40820, 40821, 26, 27, 3377, 29, 310, 22, 136, 141, 18, 1739, 12, 108, 73, 59, 70, 235, 855, 15, 1130, 75, 447, 51, 75, 61, 1645, 22, 101, 40822, 103, 7199, 402, 256, 3940, 23, 4914, 38, 1580, 19, 7993, 73, 4082, 18492, 454, 455, 456, 457, 454, 455, 456, 457, 190, 277, 1837, 22, 40822, 17, 19, 2036, 11, 12, 7568, 7569, 22, 128, 8, 85, 19, 24435, 1407, 374, 975, 15, 40821, 953, 73, 288, 54, 40823, 17, 40824, 22163, 73, 345, 10071, 1189, 12, 293, 14842, 22, 12, 10327, 22, 38, 12, 293, 4408, 12, 10327, 15, 168, 3260, 9, 19, 108, 54, 2054, 398, 12252, 31, 40825, 1130, 822, 909, 2911, 38, 2153, 15, 307, 22, 157, 3841, 141, 811, 143, 75, 953, 73, 59, 1332, 9119, 15, 648, 2285, 663, 12, 114, 40826, 262, 22, 38, 167, 1322, 2911, 23, 2110, 85, 2633, 38, 628, 18658, 15, 1630, 2285, 40827, 1005, 118, 508, 6487, 454, 455, 456, 457, 454, 455, 456, 457, 88, 12, 5668, 1627, 7199, 1148, 22, 40822, 3651, 1580, 19, 7670, 73, 341, 15, 307, 16, 17, 19, 855, 355, 450, 38, 855, 353, 5808, 107, 22, 143, 508, 1174, 2975, 31, 29539, 31, 1144, 781, 5990, 38, 4611, 785, 628, 214, 351, 12, 1938, 179, 69, 953, 73, 59, 283, 10534, 454, 455, 456, 457, 454, 455, 456, 457, 168, 285, 140, 51, 2953, 128, 19, 769, 108, 22, 143, 75, 61, 585, 117, 349, 8304, 179, 62, 54, 2219, 351, 535, 107, 116, 3142, 75, 917, 5232, 128, 180, 123, 15, 16, 27, 3106, 2554, 38, 3106, 995, 22, 143, 142, 1272, 27916, 2204, 9, 2852, 38, 364, 1486, 359, 38, 8304, 54, 17, 14842, 585, 179, 12, 8363, 31, 75, 39757]\n",
            "After converting to IDs to words:\n",
            "['uwe', 'boll', 'has', 'done', 'the', 'impossible', ':', 'create', 'a', 'game', 'adaptation', 'that', 'stays', 'at', 'least', 'somewhat', 'true', 'to', 'the', 'game', ';', 'he', 'has', 'turned', 'a', 'game', 'full', 'of', 'antisocial', 'and', 'offensive', 'content', 'into', 'a', 'movie', 'full', 'of', 'antisocial', 'and', 'offensive', 'content', '.', 'so', ',', 'as', 'an', 'adaptation', ',', 'it', \"'s\", 'a', 'success.', '<', 'br', '/', '>', '<', 'br', '/', '>', 'unfortunately', ',', 'it', \"'s\", 'still', 'uwe', 'boll', 'we', 'are', 'dealing', 'with', 'here', ',', 'so', 'do', \"n't\", 'expect', 'the', 'movie', 'to', 'be', 'actually', 'any', 'good', '.', 'while', 'it', 'does', 'have', 'it', \"'s\", 'moment', ',', '``', 'postal', \"''\", 'wears', 'out', 'his', 'welcome', 'very', 'fast', 'and', 'becomes', 'a', 'pain', 'to', 'sit', 'through.', '<', 'br', '/', '>', '<', 'br', '/', '>', 'at', 'its', 'core', ',', 'postal', 'is', 'a', 'satire', 'on', 'the', 'united', 'states', ',', 'as', 'done', 'by', 'a', 'twelve', 'year', 'old', 'kid', '.', 'boll', 'seems', 'to', 'think', 'that', 'offensiveness', 'is', 'linearly', 'proportional', 'to', 'comedic', 'value', ':', 'the', 'more', 'offensive', ',', 'the', 'funnier', ',', 'and', 'the', 'more', 'exaggerated', 'the', 'funnier', '.', 'this', 'results', 'in', 'a', 'movie', 'that', 'sets', 'new', 'levels', 'of', 'tastelessness', 'while', 'being', 'extremely', 'hit', 'and', 'miss', '.', 'yes', ',', 'some', 'gags', 'do', 'work', 'but', 'it', 'seems', 'to', 'be', 'pure', 'luck', '.', 'high', 'points', 'include', 'the', 'director', 'satirizing', 'himself', ',', 'and', 'people', 'getting', 'hit', 'very', 'violently', 'by', 'trucks', 'and', 'other', 'vehicles', '.', 'low', 'points', 'include..well', 'pretty', 'much', 'everything', 'else.', '<', 'br', '/', '>', '<', 'br', '/', '>', 'after', 'the', 'initial', 'surprise', 'wears', 'off', ',', 'postal', 'simply', 'becomes', 'a', 'bore', 'to', 'watch', '.', 'yes', 'there', 'is', 'a', 'good', 'joke', 'every', 'and', 'good', 'point', 'ten', 'minutes', ',', 'but', 'everything', 'else', 'consists', 'of', 'hordes', 'of', 'annoying', 'characters', 'shooting', 'and', 'chasing', 'each', 'other', 'all', 'over', 'the', 'place', 'for', 'what', 'seems', 'to', 'be', 'an', 'eternity.', '<', 'br', '/', '>', '<', 'br', '/', '>', 'this', 'probably', 'would', 'have', 'worked', 'as', 'a', 'short', 'movie', ',', 'but', 'it', \"'s\", 'just', 'not', 'enough', 'content', 'for', 'something', 'that', 'lasts', 'over', '90', 'minutes', '(', 'although', 'it', 'feels', 'twice', 'as', 'long', ')', '.', 'there', 'are', 'nice', 'ideas', 'and', 'nice', 'tries', ',', 'but', 'they', 'get', 'hopelessly', 'lost', 'in', 'endless', 'and', 'pointless', 'action', 'scenes', 'and', 'content', 'that', 'is', 'offensive', 'just', 'for', 'the', 'sake', 'of', 'it', '4/10']\n",
            "Here is the label:\n",
            "-1.0\n"
          ],
          "name": "stdout"
        }
      ]
    },
    {
      "cell_type": "markdown",
      "metadata": {
        "id": "DK2ImoAFBL7V"
      },
      "source": [
        "# Suggestions for getting started\n",
        "\n",
        "We recommend following a similar structure as the XOR example above, starting with an [Embedding Layer](https://pytorch.org/docs/stable/nn.html\\#embedding), [ReLU nonlinearity](https://pytorch.org/docs/stable/nn.html\\#relu), a single hidden layer and [Adam optimizer.](https://pytorch.org/docs/stable/optim.html\\#torch.optim.Adam)\n",
        "Please refer to the Pytorch Documentation for more information as necessary.  You can use a batch size of one for this assignment, to simplify your implementation.\n"
      ]
    },
    {
      "cell_type": "code",
      "metadata": {
        "colab": {
          "base_uri": "https://localhost:8080/",
          "height": 455,
          "referenced_widgets": [
            "c9d59d7a3ce845919803ad9ddc4cc195",
            "7d6b750f1499492aafaaf4ddaac60018",
            "3c0b8cccdfd24b33bb26659b9d43e666",
            "a90e795f1d9f4acfbd00f1f7a2019573",
            "398f416244714a3080fb28ea933fd493",
            "d01adebf90db4ee4a70a862f019a522b",
            "25c3f0e8b2fb45bca30f66033a1859eb",
            "62d600b0e10b434188d201334edfdcd8",
            "9b3aac978544474cb1c7866e8fc4ca35",
            "1ebec4afb5744935883b51e37f02967b",
            "e64cbec951c548bbb766cc3657d928ae",
            "88cc15aa0aff41999166d64eb8f3ae60",
            "f5f79ccdf43245d38b17c4c2a6fbc6de",
            "a89bf4e39d0e41dfbf690ac58823bc24",
            "eae1a2d4c48e465da03530f9f1620b46",
            "581ff3d7962c477db078b8ec4749f3a3",
            "52cea43774734a1ea0fca34ccfb07f8d",
            "2e3d6b899a9f4fa9a1106360d654d478",
            "e6c234154dec4b6dacfc6b9430017932",
            "1423d850d9174eb1943d9c8297743044",
            "b7c2057ac6714a3c9a2e3052ca6765e8",
            "2c9a34f7a24c4c378e98b639435c0455",
            "1b1301e68da743b5b7652bdb54dd7304",
            "5d764964cc254571b266994f3a841ce4",
            "218444b8737b4f1c9d8a0a916fd26297",
            "b4633258be0a4623bd5c9d05964fb38a",
            "69d9c161a4264e3a8fb579095e9c638a",
            "7a00e32559c64be1b2cea352a630f511",
            "e2cb5228ecdc4f738c790b1237ef0e71",
            "65d5e3c28bd34484ab215836fab3c4b1",
            "2740254038ab48c59e43ad630e861419",
            "d968adce5c724f43b9aec06c0c6ee35d",
            "a4f8721b103343f5aa22ef87058ec651",
            "ab0b8edd511849a8ad6567fbf1eba5a5",
            "cf8036e5b6b7403f84ad29b83e57da22",
            "9fd5c126fe3f4084b47f7957f3b65d80",
            "49788cd1c98e42edb5274341d743bb2f",
            "7c96a4250add47559887a2f55affc674",
            "70aa59800ec24f4c91964044e865ca13",
            "95ff66aca6844f4a8790c315f72c947c"
          ]
        },
        "id": "Ex-40V7SMd6L",
        "outputId": "2a46c5bf-7660-4dfc-cd62-48d4288e9ebd"
      },
      "source": [
        "import tqdm\n",
        "\n",
        "import torch\n",
        "import torch.nn as nn\n",
        "from torch import optim\n",
        "\n",
        "class NBOW(nn.Module):\n",
        "    def __init__(self, VOCAB_SIZE, DIM_EMB=300, NUM_CLASSES=2):\n",
        "        super(NBOW, self).__init__()\n",
        "        self.NUM_CLASSES=NUM_CLASSES\n",
        "        #TODO: Initialize parameters.\n",
        "        #embedding layer, relu, hiddenlayer, adam\n",
        "        self.V = nn.Embedding(VOCAB_SIZE, DIM_EMB)\n",
        "        self.g = nn.ReLU()\n",
        "        self.W = nn.Linear(DIM_EMB, NUM_CLASSES)\n",
        "        self.logSoftmax = nn.LogSoftmax(dim=0)\n",
        "\n",
        "\n",
        "    def forward(self, X):\n",
        "        #TODO: Implement forward computation.\n",
        "        #return torch.randn(self.NUM_CLASSES)\n",
        "        #X.cuda()\n",
        "        vfx = self.V(X.cuda()).mean(0)\n",
        "        g_v = self.g(vfx)\n",
        "        w_g = self.W(g_v)\n",
        "        #return w_g\n",
        "        sft= self.logSoftmax(w_g)\n",
        "        return sft\n",
        "\n",
        "\n",
        "def EvalNet(data, net):\n",
        "    num_correct = 0\n",
        "    Y = (data.Y + 1.0) / 2.0\n",
        "    X = data.XwordList\n",
        "    for i in range(len(X)):\n",
        "        logProbs = net.forward(X[i])\n",
        "        pred = torch.argmax(logProbs)\n",
        "        if pred == Y[i]:\n",
        "            num_correct += 1\n",
        "    print(\"Accuracy: %s\" % (float(num_correct) / float(len(X))))\n",
        "\n",
        "def SavePredictions(data, outFile, net):\n",
        "    fOut = open(outFile, 'w')\n",
        "    for i in range(len(data.XwordList)):\n",
        "        logProbs = net.forward(data.XwordList[i])\n",
        "        pred = torch.argmax(logProbs)\n",
        "        fOut.write(f\"{data.XfileList[i]}\\t{pred}\\n\")\n",
        "\n",
        "def Train(net, X, Y, n_iter, dev):\n",
        "    print(\"Start Training!\")\n",
        "    #TODO: initialize optimizer.\n",
        "    adam = optim.Adam(net.parameters(),lr=.0005) #.05 too high, .0001 too low\n",
        "    num_classes = len(set(Y))\n",
        "    #print(X.shape)\n",
        "    for epoch in range(n_iter):\n",
        "        num_correct = 0\n",
        "        total_loss = 0.0\n",
        "        net.train()   #Put the network into training model\n",
        "        for i in tqdm.notebook.tqdm(range(len(X))):\n",
        "           # pass\n",
        "            #TODO: compute gradients, do parameter update, compute loss.\n",
        "            #x  = torch.from_numpy(train_X[i]).float()\n",
        "            y_onehot = torch.zeros(num_classes)\n",
        "            y_onehot[Y[i].astype('int')] = 1\n",
        "\n",
        "            adam.zero_grad()\n",
        "            logProbs = net.forward(X[i])\n",
        "           # print(y_onehot.shape)\n",
        "           # print(logProbs)\n",
        "\n",
        "            loss = torch.neg(logProbs).dot(y_onehot.cuda())\n",
        "            total_loss += loss\n",
        "            \n",
        "            loss.backward()\n",
        "            adam.step()\n",
        "\n",
        "        net.eval()    #Switch to eval mode\n",
        "        print(f\"loss on epoch {epoch} = {total_loss}\")\n",
        "        EvalNet(dev, net)\n",
        "\n",
        "nbow = NBOW(train.vocab.GetVocabSize()).cuda()\n",
        "Train(nbow, train.XwordList, (train.Y + 1.0) / 2.0, 5, dev)"
      ],
      "execution_count": 104,
      "outputs": [
        {
          "output_type": "stream",
          "text": [
            "Start Training!\n"
          ],
          "name": "stdout"
        },
        {
          "output_type": "display_data",
          "data": {
            "application/vnd.jupyter.widget-view+json": {
              "model_id": "c9d59d7a3ce845919803ad9ddc4cc195",
              "version_minor": 0,
              "version_major": 2
            },
            "text/plain": [
              "HBox(children=(FloatProgress(value=0.0, max=7222.0), HTML(value='')))"
            ]
          },
          "metadata": {
            "tags": []
          }
        },
        {
          "output_type": "stream",
          "text": [
            "\n",
            "loss on epoch 0 = 4110.056640625\n",
            "Accuracy: 0.8033303330333034\n"
          ],
          "name": "stdout"
        },
        {
          "output_type": "display_data",
          "data": {
            "application/vnd.jupyter.widget-view+json": {
              "model_id": "9b3aac978544474cb1c7866e8fc4ca35",
              "version_minor": 0,
              "version_major": 2
            },
            "text/plain": [
              "HBox(children=(FloatProgress(value=0.0, max=7222.0), HTML(value='')))"
            ]
          },
          "metadata": {
            "tags": []
          }
        },
        {
          "output_type": "stream",
          "text": [
            "\n",
            "loss on epoch 1 = 2209.860595703125\n",
            "Accuracy: 0.8582358235823583\n"
          ],
          "name": "stdout"
        },
        {
          "output_type": "display_data",
          "data": {
            "application/vnd.jupyter.widget-view+json": {
              "model_id": "52cea43774734a1ea0fca34ccfb07f8d",
              "version_minor": 0,
              "version_major": 2
            },
            "text/plain": [
              "HBox(children=(FloatProgress(value=0.0, max=7222.0), HTML(value='')))"
            ]
          },
          "metadata": {
            "tags": []
          }
        },
        {
          "output_type": "stream",
          "text": [
            "\n",
            "loss on epoch 2 = 1312.31005859375\n",
            "Accuracy: 0.8703870387038704\n"
          ],
          "name": "stdout"
        },
        {
          "output_type": "display_data",
          "data": {
            "application/vnd.jupyter.widget-view+json": {
              "model_id": "218444b8737b4f1c9d8a0a916fd26297",
              "version_minor": 0,
              "version_major": 2
            },
            "text/plain": [
              "HBox(children=(FloatProgress(value=0.0, max=7222.0), HTML(value='')))"
            ]
          },
          "metadata": {
            "tags": []
          }
        },
        {
          "output_type": "stream",
          "text": [
            "\n",
            "loss on epoch 3 = 791.2699584960938\n",
            "Accuracy: 0.8735373537353736\n"
          ],
          "name": "stdout"
        },
        {
          "output_type": "display_data",
          "data": {
            "application/vnd.jupyter.widget-view+json": {
              "model_id": "a4f8721b103343f5aa22ef87058ec651",
              "version_minor": 0,
              "version_major": 2
            },
            "text/plain": [
              "HBox(children=(FloatProgress(value=0.0, max=7222.0), HTML(value='')))"
            ]
          },
          "metadata": {
            "tags": []
          }
        },
        {
          "output_type": "stream",
          "text": [
            "\n",
            "loss on epoch 4 = 457.943603515625\n",
            "Accuracy: 0.8717371737173717\n"
          ],
          "name": "stdout"
        }
      ]
    },
    {
      "cell_type": "markdown",
      "metadata": {
        "id": "Fka0q0f2QfVT"
      },
      "source": [
        "# Evaluate on the test set\n",
        "\n",
        "Once you are happy with your performance on the dev set, run the cell below to evaluate your performance on the test set.  Make sure to download the predictions of your model in `test_pred_nbow.txt`."
      ]
    },
    {
      "cell_type": "code",
      "metadata": {
        "colab": {
          "base_uri": "https://localhost:8080/"
        },
        "id": "s5N7dFX5Q3_R",
        "outputId": "f514c87a-91c8-4a40-b2a0-2d2d70431a6a"
      },
      "source": [
        "EvalNet(test, nbow)\n",
        "SavePredictions(test, 'test_pred_nbow.txt', nbow)"
      ],
      "execution_count": 105,
      "outputs": [
        {
          "output_type": "stream",
          "text": [
            "Accuracy: 0.8667959014123512\n"
          ],
          "name": "stdout"
        }
      ]
    },
    {
      "cell_type": "markdown",
      "metadata": {
        "id": "uLry9u8kCAQM"
      },
      "source": [
        "# 1-D Convolutional Neural Networks (2 points - optional extra credit)\n",
        "\n",
        "The final task for this assignment is to implement a convolutional neural network for text classification similar to the CNN-rand baseline described by [Kim (2014)](https://www.aclweb.org/anthology/D14-1181.pdf).  We haven't covered CNNs in lecture yet, so this part is optional.  You should use the same data format as the NBOW model above, starting out with an [Embedding](https://pytorch.org/docs/stable/generated/torch.nn.Embedding.html) layer, followed by a [1-D convolution](https://pytorch.org/docs/stable/generated/torch.nn.Conv1d.html), a [max-pooling layer](https://pytorch.org/docs/stable/generated/torch.nn.MaxPool1d.html#torch.nn.MaxPool1d) and a [Dropout layer](https://pytorch.org/docs/stable/generated/torch.nn.Dropout.html).  You should be able to use the same `Train()` function you wrote above."
      ]
    },
    {
      "cell_type": "code",
      "metadata": {
        "colab": {
          "base_uri": "https://localhost:8080/",
          "height": 455,
          "referenced_widgets": [
            "54a435eae215453e962f81a8384075aa",
            "4eab4fb32d83412e83d79b70dd30c6eb",
            "96358e4006d74d259f98c270afe0dafa",
            "ea064815f6c74c2088bb535040bebe09",
            "b9c1e500c7e6474ebf632ef062be4ede",
            "a83b713c7a99447fbbc8152b9c67e563",
            "f6a96f286f1c4b2aae8eba79825d8bed",
            "7370a62c309b45b2933a43c21189f68d",
            "b3978aa54eb24b71b139a4c8955cb4cf",
            "a888db1190dc4c30ae1df8baf37925b9",
            "1ebc2b00e2f84b29a03afa1a8a0db95e",
            "995767284f594be69b9deb6a04d167b1",
            "0ec9119474f840c9b6706d5b821a87a3",
            "0351e40e91fb454d89204f8c6121f1a1",
            "47cec75e491b4b89b29afd7341f55f74",
            "cc1dfb7c73e84b17a7e55acffc1a0b23",
            "9d720b8c92974ccdb34275d1c891d183",
            "ba55e485b7634e08b17d27ea50507657",
            "5d5c14e0f8694a5e8c3b8cb661f6523d",
            "cc26e249e5584c98b5f9d5bce8f5a6aa",
            "485399d5517e4582a5e2554a67cbcc7d",
            "ce293e7933a4449db75c7934e64f1519",
            "ac3a489b1d9d4c0da12e68e3217e24e8",
            "a1423ef18e344494ad7eafad0f9a6646",
            "6fc76257a05441e7bf7e7a15e9955743",
            "5ca43e2f491b4a6d9e994591e72806e1",
            "0aab6e8aa5e4451bb0e1dee88141d131",
            "2858f8a98d1c4efcaf388c27a2e5b0cf",
            "96334f493a484bd89bface24bcd976dd",
            "ba39ce2a2c964ae1a42f407de2f059b5",
            "6de9770173164020a9f54519ba325b59",
            "2879ed3c04504d16be3b5cec14b93d3f",
            "429a510d4c5b47a189123f276478741c",
            "21fff3a34aab419eaad7954d9cbe0bc5",
            "b05436b940bf400482f0771801517489",
            "5a6c179f51dd411d921b7f9f5cc3fb86",
            "ed9247bed2294579b34002e0213ca9ab",
            "d2c1438892d84be28159d2eae14dbc91",
            "b98ccf17fac847358c33614ee1fe84da",
            "42ffeb39920644c8aa3b3413b89098e8"
          ]
        },
        "id": "-iY3QTL6Npdy",
        "outputId": "1b3cafe5-b41f-40a2-ec3c-0caa27711e2e"
      },
      "source": [
        "import torch.nn.functional as F\n",
        "import torch.nn as nn\n",
        "from torch import optim\n",
        "import tqdm\n",
        "\n",
        "\n",
        "class CNN(nn.Module):\n",
        "    def __init__(self, VOCAB_SIZE, DIM_EMB=300, NUM_CLASSES=2):\n",
        "        super(CNN, self).__init__()\n",
        "        self.NUM_CLASSES=NUM_CLASSES\n",
        "        #TODO: Initialize parameters.\n",
        "        self.emb = nn.Embedding(VOCAB_SIZE, DIM_EMB)\n",
        "        self.conv = nn.Conv1d(DIM_EMB,1000 , kernel_size=3) #dim = B * OUT_Channels * Seq Length\n",
        "        self.drop = nn.Dropout()\n",
        "        self.hidden = nn.Linear( 1000, NUM_CLASSES)\n",
        "        self.softmax = nn.LogSoftmax(dim=0)\n",
        "\n",
        "    def forward(self, X):\n",
        "        #TODO: Implement forward computation.\n",
        "        pool = nn.MaxPool1d(500) #sequence length of conv output\n",
        "\n",
        "\n",
        "        e = self.emb(X.cuda())\n",
        "        c = self.conv(e.reshape(1, e.shape[1], e.shape[0]))\n",
        "        p = F.max_pool1d(c, c.shape[2])\n",
        "        d = self.drop(p)\n",
        "        h = self.hidden(d.squeeze())\n",
        "        return self.softmax(h)\n",
        "\n",
        "        #return torch.randn(self.NUM_CLASSES)\n",
        "\n",
        "\n",
        "\n",
        "def Train(net, X, Y, n_iter, dev):\n",
        "  print(\"Start Training!\")\n",
        "  #TODO: initialize optimizer.\n",
        "  adam = optim.Adam(net.parameters(),lr=.05) #.05 too high, .0001 too low\n",
        "  num_classes = len(set(Y))\n",
        "  #print(X.shape)\n",
        "  for epoch in range(n_iter):\n",
        "      num_correct = 0\n",
        "      total_loss = 0.0\n",
        "      net.train()   #Put the network into training model\n",
        "      for i in tqdm.notebook.tqdm(range(len(X))):\n",
        "        # pass\n",
        "          #TODO: compute gradients, do parameter update, compute loss.\n",
        "          #x  = torch.from_numpy(train_X[i]).float()\n",
        "          y_onehot = torch.zeros(num_classes)\n",
        "          y_onehot[Y[i].astype('int')] = 1\n",
        "\n",
        "          adam.zero_grad()\n",
        "          logProbs = net.forward(X[i])\n",
        "        # print(y_onehot.shape)\n",
        "        # print(logProbs)\n",
        "\n",
        "          loss = torch.neg(logProbs).dot(y_onehot.cuda())\n",
        "          total_loss += loss\n",
        "          \n",
        "          loss.backward()\n",
        "          adam.step()\n",
        "      net.eval()    #Switch to eval mode\n",
        "      print(f\"loss on epoch {epoch} = {total_loss}\")\n",
        "      EvalNet(dev, net)\n",
        "\n",
        "cnn = CNN(train.vocab.GetVocabSize()).cuda()\n",
        "Train(cnn, train.XwordList, (train.Y + 1.0) / 2.0, 5, dev)"
      ],
      "execution_count": 106,
      "outputs": [
        {
          "output_type": "stream",
          "text": [
            "Start Training!\n"
          ],
          "name": "stdout"
        },
        {
          "output_type": "display_data",
          "data": {
            "application/vnd.jupyter.widget-view+json": {
              "model_id": "54a435eae215453e962f81a8384075aa",
              "version_minor": 0,
              "version_major": 2
            },
            "text/plain": [
              "HBox(children=(FloatProgress(value=0.0, max=7222.0), HTML(value='')))"
            ]
          },
          "metadata": {
            "tags": []
          }
        },
        {
          "output_type": "stream",
          "text": [
            "\n",
            "loss on epoch 0 = 241733472.0\n",
            "Accuracy: 0.7979297929792979\n"
          ],
          "name": "stdout"
        },
        {
          "output_type": "display_data",
          "data": {
            "application/vnd.jupyter.widget-view+json": {
              "model_id": "b3978aa54eb24b71b139a4c8955cb4cf",
              "version_minor": 0,
              "version_major": 2
            },
            "text/plain": [
              "HBox(children=(FloatProgress(value=0.0, max=7222.0), HTML(value='')))"
            ]
          },
          "metadata": {
            "tags": []
          }
        },
        {
          "output_type": "stream",
          "text": [
            "\n",
            "loss on epoch 1 = 313568384.0\n",
            "Accuracy: 0.6903690369036903\n"
          ],
          "name": "stdout"
        },
        {
          "output_type": "display_data",
          "data": {
            "application/vnd.jupyter.widget-view+json": {
              "model_id": "9d720b8c92974ccdb34275d1c891d183",
              "version_minor": 0,
              "version_major": 2
            },
            "text/plain": [
              "HBox(children=(FloatProgress(value=0.0, max=7222.0), HTML(value='')))"
            ]
          },
          "metadata": {
            "tags": []
          }
        },
        {
          "output_type": "stream",
          "text": [
            "\n",
            "loss on epoch 2 = 310668512.0\n",
            "Accuracy: 0.7655265526552655\n"
          ],
          "name": "stdout"
        },
        {
          "output_type": "display_data",
          "data": {
            "application/vnd.jupyter.widget-view+json": {
              "model_id": "6fc76257a05441e7bf7e7a15e9955743",
              "version_minor": 0,
              "version_major": 2
            },
            "text/plain": [
              "HBox(children=(FloatProgress(value=0.0, max=7222.0), HTML(value='')))"
            ]
          },
          "metadata": {
            "tags": []
          }
        },
        {
          "output_type": "stream",
          "text": [
            "\n",
            "loss on epoch 3 = 268897728.0\n",
            "Accuracy: 0.8307830783078308\n"
          ],
          "name": "stdout"
        },
        {
          "output_type": "display_data",
          "data": {
            "application/vnd.jupyter.widget-view+json": {
              "model_id": "429a510d4c5b47a189123f276478741c",
              "version_minor": 0,
              "version_major": 2
            },
            "text/plain": [
              "HBox(children=(FloatProgress(value=0.0, max=7222.0), HTML(value='')))"
            ]
          },
          "metadata": {
            "tags": []
          }
        },
        {
          "output_type": "stream",
          "text": [
            "\n",
            "loss on epoch 4 = 229844576.0\n",
            "Accuracy: 0.828982898289829\n"
          ],
          "name": "stdout"
        }
      ]
    },
    {
      "cell_type": "markdown",
      "metadata": {
        "id": "iMNqkPTsQ0f1"
      },
      "source": [
        ""
      ]
    },
    {
      "cell_type": "code",
      "metadata": {
        "id": "b8WIHTH3Q1PM"
      },
      "source": [
        "def EvalNet(data, net):\r\n",
        "    num_correct = 0\r\n",
        "    Y = (data.Y + 1.0) / 2.0\r\n",
        "    X = data.XwordList\r\n",
        "    for i in range(len(X)):\r\n",
        "        logProbs = net.forward(X[i])\r\n",
        "        pred = torch.argmax(logProbs)\r\n",
        "        if pred == Y[i]:\r\n",
        "            num_correct += 1\r\n",
        "    print(\"Accuracy: %s\" % (float(num_correct) / float(len(X))))\r\n",
        "\r\n",
        "def SavePredictions(data, outFile, net):\r\n",
        "    fOut = open(outFile, 'w')\r\n",
        "    for i in range(len(data.XwordList)):\r\n",
        "        logProbs = net.forward(data.XwordList[i])\r\n",
        "        pred = torch.argmax(logProbs)\r\n",
        "        fOut.write(f\"{data.XfileList[i]}\\t{pred}\\n\")"
      ],
      "execution_count": 107,
      "outputs": []
    },
    {
      "cell_type": "markdown",
      "metadata": {
        "id": "6NB1kC0fTCWt"
      },
      "source": [
        "# Evaluate on the test set\n",
        "\n",
        "Once you are happy with your performance on the dev set, run the cell below to evaluate your performance on the test set.  Make sure to download the predictions of your model in `test_pred_nbow.txt`."
      ]
    },
    {
      "cell_type": "code",
      "metadata": {
        "colab": {
          "base_uri": "https://localhost:8080/"
        },
        "id": "lyrQ1Z76TCW9",
        "outputId": "161c2ea6-b178-4037-c441-9777111bbc5a"
      },
      "source": [
        "EvalNet(test, cnn)\n",
        "SavePredictions(test, 'test_pred_cnn.txt', cnn)"
      ],
      "execution_count": 108,
      "outputs": [
        {
          "output_type": "stream",
          "text": [
            "Accuracy: 0.8296870672943782\n"
          ],
          "name": "stdout"
        }
      ]
    },
    {
      "cell_type": "markdown",
      "metadata": {
        "id": "IcKYByOTDwKN"
      },
      "source": [
        "# Gradescope\n",
        "\n",
        "Gradescope allows you to add multiple files to your submission. Please submit this notebook along with the test set prediction:\n",
        "* test_pred_perceptron.txt\n",
        "* test_pred_nbow.txt\n",
        "* test_pred_cnn.txt (optional)\n",
        "* TextClassification_solution.ipynb\n",
        "\n",
        "To download this notebook, go to `File > Download.ipynb`. You can download the predictions from Colab by clicking the folder icon on the left and finding them under Files. \n",
        "\n",
        "Please make sure that you name the files as specified above. You will be able to see the test set accuracy for your predictions. However, the final score will be assigned later based on accuracy and implementation. \n",
        "\n",
        "When submitting the .ipynb notebook, please make sure that all the cells run when executed in order starting from a fresh session. If the code doesn't take too long to run, you can re-run everything with `Runtime -> Restart and run all`\n",
        "\n",
        "You can submit multiple times before the deadline and choose the submission which you want to be graded by going to `Submission History` on gradescope.\n",
        "\n"
      ]
    },
    {
      "cell_type": "code",
      "metadata": {
        "id": "ll5P0dB-ny94"
      },
      "source": [
        ""
      ],
      "execution_count": 108,
      "outputs": []
    }
  ]
}